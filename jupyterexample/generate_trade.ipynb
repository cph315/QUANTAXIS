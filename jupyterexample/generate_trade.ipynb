{
 "cells": [
  {
   "cell_type": "code",
   "execution_count": 1,
   "metadata": {},
   "outputs": [
    {
     "name": "stderr",
     "output_type": "stream",
     "text": [
      "QUANTAXIS>> start QUANTAXIS\n",
      "QUANTAXIS>> Selecting the Best Server IP of TDX\n",
      "QUANTAXIS>> === The BEST SERVER ===\n",
      " stock_ip 218.75.126.9 future_ip 61.152.107.141\n",
      "QUANTAXIS>> Welcome to QUANTAXIS, the Version is remake-version\n",
      "QUANTAXIS>>  \n",
      " ```````````````````````````````````````````````````````````````````````````````````````````````````````````````````````` \n",
      "  ``########`````##````````##``````````##`````````####````````##```##########````````#``````##``````###```##`````######`` \n",
      "  `##``````## ```##````````##`````````####````````##`##```````##```````##```````````###``````##````##`````##```##`````##` \n",
      "  ##````````##```##````````##````````##`##````````##``##``````##```````##``````````####```````#```##``````##```##``````## \n",
      "  ##````````##```##````````##```````##```##```````##```##`````##```````##`````````##`##```````##`##```````##````##``````` \n",
      "  ##````````##```##````````##``````##`````##``````##````##````##```````##````````##``###```````###````````##`````##`````` \n",
      "  ##````````##```##````````##``````##``````##`````##`````##```##```````##```````##````##```````###````````##``````###```` \n",
      "  ##````````##```##````````##`````##````````##````##``````##``##```````##``````##``````##`````##`##```````##````````##``` \n",
      "  ##````````##```##````````##````#############````##```````##`##```````##`````###########`````##``##``````##`````````##`` \n",
      "  ###```````##```##````````##```##```````````##```##```````##`##```````##````##`````````##```##```##``````##```##`````##` \n",
      "  `##``````###````##``````###``##`````````````##``##````````####```````##```##``````````##``###````##`````##````##`````## \n",
      "  ``#########``````########```##``````````````###`##``````````##```````##``##````````````##`##``````##````##`````##````## \n",
      "  ````````#####`````````````````````````````````````````````````````````````````````````````````````````````````````####` \n",
      "  ``````````````````````````````````````````````````````````````````````````````````````````````````````````````````````` \n",
      "  ``````````````````````````Copyright``yutiansut``2017``````QUANTITATIVE FINANCIAL FRAMEWORK````````````````````````````` \n",
      "  ``````````````````````````````````````````````````````````````````````````````````````````````````````````````````````` \n",
      " ```````````````````````````````````````````````````````````````````````````````````````````````````````````````````````` \n",
      " ```````````````````````````````````````````````````````````````````````````````````````````````````````````````````````` \n",
      " \n"
     ]
    },
    {
     "name": "stdout",
     "output_type": "stream",
     "text": [
      "< QA_MARKET with ['backtest'] Broker >\n",
      "< QA_Order datetime:2017-01-03 09:31:00 code:000001 price:9.16 towards:1 btype:0x01 order_id:Order_t3ynV6vB account:Acc_qodhKjYA status:300 >\n",
      "===== SETTLED None =====\n",
      "< QA_Order datetime:2017-01-03 09:31:00 code:000002 price:20.73 towards:1 btype:0x01 order_id:Order_braSVeKA account:Acc_qodhKjYA status:300 >===== SETTLED None =====\n",
      "\n",
      "< QA_Order datetime:2017-01-03 09:31:00 code:000004 price:44.45 towards:1 btype:0x01 order_id:Order_C124PhsZ account:Acc_qodhKjYA status:300 >===== SETTLED None =====\n",
      "\n",
      "< QA_Order datetime:2017-01-04 09:31:00 code:000002 price:20.85 towards:1 btype:0x01 order_id:Order_8g0UGjDQ account:Acc_qodhKjYA status:300 >===== SETTLED None =====\n",
      "\n",
      "< QA_Order datetime:2017-01-04 09:31:00 code:000004 price:44.7 towards:1 btype:0x01 order_id:Order_vYJLuCnQ account:Acc_qodhKjYA status:300 >\n",
      "===== SETTLED None =====< QA_Order datetime:2017-01-05 09:31:00 code:000001 price:9.17 towards:1 btype:0x01 order_id:Order_8LQWCP2b account:Acc_qodhKjYA status:300 >\n",
      "\n",
      "===== SETTLED None =====< QA_Order datetime:2017-01-06 09:31:00 code:000002 price:20.64 towards:1 btype:0x01 order_id:Order_dPyHiRTv account:Acc_qodhKjYA status:300 >\n",
      "\n",
      "< QA_Order datetime:2017-01-06 09:31:00 code:000004 price:43.96 towards:1 btype:0x01 order_id:Order_jeVmYhoQ account:Acc_qodhKjYA status:300 >\n",
      "===== SETTLED None =====\n",
      "< QA_Order datetime:2017-01-09 09:31:00 code:000001 price:9.15 towards:-1 btype:0x01 order_id:Order_dHTN10cY account:Acc_qodhKjYA status:300 >"
     ]
    },
    {
     "name": "stderr",
     "output_type": "stream",
     "text": [
      "QUANTAXIS>> MARKET WARING: SOMEING WRONG WITH ORDER \n",
      " "
     ]
    },
    {
     "name": "stdout",
     "output_type": "stream",
     "text": [
      "\n"
     ]
    },
    {
     "name": "stderr",
     "output_type": "stream",
     "text": [
      "\n"
     ]
    },
    {
     "name": "stdout",
     "output_type": "stream",
     "text": [
      "< QA_Order datetime:2017-01-09 09:31:00 code:000002 price:20.66 towards:-1 btype:0x01 order_id:Order_NZeJ68Hy account:Acc_qodhKjYA status:300 >"
     ]
    },
    {
     "name": "stderr",
     "output_type": "stream",
     "text": [
      "QUANTAXIS>> code 000002 date 2017-01-12 price None order_model close amount_model by_amount"
     ]
    },
    {
     "name": "stdout",
     "output_type": "stream",
     "text": [
      "\n"
     ]
    },
    {
     "name": "stderr",
     "output_type": "stream",
     "text": [
      "\n"
     ]
    },
    {
     "name": "stdout",
     "output_type": "stream",
     "text": [
      "< QA_Order datetime:2017-01-09 09:31:00 code:000004 price:43.01 towards:-1 btype:0x01 order_id:Order_H1N2PX67 account:Acc_qodhKjYA status:300 >\n",
      "===== SETTLED None =====\n",
      "< QA_Order datetime:2017-01-10 09:31:00 code:000001 price:9.15 towards:-1 btype:0x01 order_id:Order_V17SDEi5 account:Acc_qodhKjYA status:300 >===== SETTLED None =====\n",
      "\n",
      "< QA_Order datetime:2017-01-10 09:31:00 code:000002 price:20.58 towards:1 btype:0x01 order_id:Order_x3ykpEwX account:Acc_qodhKjYA status:300 >"
     ]
    },
    {
     "name": "stderr",
     "output_type": "stream",
     "text": [
      "QUANTAXIS>> MARKET WARING: SOMEING WRONG WITH ORDER \n",
      " "
     ]
    },
    {
     "name": "stdout",
     "output_type": "stream",
     "text": [
      "\n"
     ]
    },
    {
     "name": "stderr",
     "output_type": "stream",
     "text": [
      "\n"
     ]
    },
    {
     "name": "stdout",
     "output_type": "stream",
     "text": [
      "< QA_Order datetime:2017-01-10 09:31:00 code:000004 price:43.25 towards:1 btype:0x01 order_id:Order_zhDQw7d3 account:Acc_qodhKjYA status:300 >"
     ]
    },
    {
     "name": "stderr",
     "output_type": "stream",
     "text": [
      "QUANTAXIS>> code 000007 date 2017-01-16 price None order_model close amount_model by_amount"
     ]
    },
    {
     "name": "stdout",
     "output_type": "stream",
     "text": [
      "\n"
     ]
    },
    {
     "name": "stderr",
     "output_type": "stream",
     "text": [
      "\n"
     ]
    },
    {
     "name": "stdout",
     "output_type": "stream",
     "text": [
      "< QA_Order datetime:2017-01-10 09:31:00 code:000007 price:24.79 towards:1 btype:0x01 order_id:Order_qFKbLnW0 account:Acc_qodhKjYA status:300 >===== SETTLED None =====\n",
      "\n",
      "< QA_Order datetime:2017-01-11 09:31:00 code:000001 price:9.14 towards:1 btype:0x01 order_id:Order_12J38Vlw account:Acc_qodhKjYA status:300 >\n",
      "< QA_Order datetime:2017-01-11 09:31:00 code:000002 price:20.4 towards:1 btype:0x01 order_id:Order_kBd3e1iF account:Acc_qodhKjYA status:300 >"
     ]
    },
    {
     "name": "stderr",
     "output_type": "stream",
     "text": [
      "QUANTAXIS>> MARKET WARING: SOMEING WRONG WITH ORDER \n",
      " "
     ]
    },
    {
     "name": "stdout",
     "output_type": "stream",
     "text": [
      "\n"
     ]
    },
    {
     "name": "stderr",
     "output_type": "stream",
     "text": [
      "\n"
     ]
    },
    {
     "name": "stdout",
     "output_type": "stream",
     "text": [
      "< QA_Order datetime:2017-01-11 09:31:00 code:000004 price:42.45 towards:1 btype:0x01 order_id:Order_6Imcwb23 account:Acc_qodhKjYA status:300 >"
     ]
    },
    {
     "name": "stderr",
     "output_type": "stream",
     "text": [
      "QUANTAXIS>> code 000007 date 2017-01-17 price None order_model close amount_model by_amount"
     ]
    },
    {
     "name": "stdout",
     "output_type": "stream",
     "text": [
      "\n"
     ]
    },
    {
     "name": "stderr",
     "output_type": "stream",
     "text": [
      "\n"
     ]
    },
    {
     "name": "stdout",
     "output_type": "stream",
     "text": [
      "< QA_Order datetime:2017-01-11 09:31:00 code:000007 price:24.85 towards:1 btype:0x01 order_id:Order_9kU6YWij account:Acc_qodhKjYA status:300 >===== SETTLED None =====\n",
      "\n",
      "< QA_Order datetime:2017-01-12 09:31:00 code:000001 price:9.15 towards:1 btype:0x01 order_id:Order_d9je3k7i account:Acc_qodhKjYA status:300 >"
     ]
    },
    {
     "name": "stderr",
     "output_type": "stream",
     "text": [
      "QUANTAXIS>> MARKET WARING: SOMEING WRONG WITH ORDER \n",
      " "
     ]
    },
    {
     "name": "stdout",
     "output_type": "stream",
     "text": [
      "\n"
     ]
    },
    {
     "name": "stderr",
     "output_type": "stream",
     "text": [
      "\n"
     ]
    },
    {
     "name": "stdout",
     "output_type": "stream",
     "text": [
      "< QA_Order datetime:2017-01-12 09:31:00 code:000004 price:42.05 towards:-1 btype:0x01 order_id:Order_HLFxkYcJ account:Acc_qodhKjYA status:300 >\n"
     ]
    },
    {
     "name": "stderr",
     "output_type": "stream",
     "text": [
      "QUANTAXIS>> code 000007 date 2017-01-18 price None order_model close amount_model by_amount"
     ]
    },
    {
     "name": "stdout",
     "output_type": "stream",
     "text": [
      "< QA_Order datetime:2017-01-12 09:31:00 code:000007 price:24.61 towards:1 btype:0x01 order_id:Order_q3OZN0jg account:Acc_qodhKjYA status:300 >"
     ]
    },
    {
     "name": "stderr",
     "output_type": "stream",
     "text": [
      "\n"
     ]
    },
    {
     "name": "stdout",
     "output_type": "stream",
     "text": [
      "\n",
      "< QA_Order datetime:2017-01-13 09:31:00 code:000001 price:9.16 towards:-1 btype:0x01 order_id:Order_KW40qstA account:Acc_qodhKjYA status:300 >===== SETTLED None =====\n",
      "\n",
      "< QA_Order datetime:2017-01-13 09:31:00 code:000002 price:21.81 towards:-1 btype:0x01 order_id:Order_BngMZyx9 account:Acc_qodhKjYA status:300 >"
     ]
    },
    {
     "name": "stderr",
     "output_type": "stream",
     "text": [
      "QUANTAXIS>> MARKET WARING: SOMEING WRONG WITH ORDER \n",
      " "
     ]
    },
    {
     "name": "stdout",
     "output_type": "stream",
     "text": [
      "\n"
     ]
    },
    {
     "name": "stderr",
     "output_type": "stream",
     "text": [
      "\n"
     ]
    },
    {
     "name": "stdout",
     "output_type": "stream",
     "text": [
      "< QA_Order datetime:2017-01-13 09:31:00 code:000004 price:41.0 towards:-1 btype:0x01 order_id:Order_EMCIJ0Np account:Acc_qodhKjYA status:300 >"
     ]
    },
    {
     "name": "stderr",
     "output_type": "stream",
     "text": [
      "QUANTAXIS>> code 000007 date 2017-01-19 price None order_model close amount_model by_amount"
     ]
    },
    {
     "name": "stdout",
     "output_type": "stream",
     "text": [
      "\n"
     ]
    },
    {
     "name": "stderr",
     "output_type": "stream",
     "text": [
      "\n"
     ]
    },
    {
     "name": "stdout",
     "output_type": "stream",
     "text": [
      "< QA_Order datetime:2017-01-16 09:31:00 code:000002 price:21.0 towards:1 btype:0x01 order_id:Order_5TJwiYMQ account:Acc_qodhKjYA status:300 >===== SETTLED None =====\n",
      "\n",
      "< QA_Order datetime:2017-01-16 09:31:00 code:000004 price:38.26 towards:1 btype:0x01 order_id:Order_cdLzWyT4 account:Acc_qodhKjYA status:300 >"
     ]
    },
    {
     "name": "stderr",
     "output_type": "stream",
     "text": [
      "QUANTAXIS>> MARKET WARING: SOMEING WRONG WITH ORDER \n",
      " "
     ]
    },
    {
     "name": "stdout",
     "output_type": "stream",
     "text": [
      "\n"
     ]
    },
    {
     "name": "stderr",
     "output_type": "stream",
     "text": [
      "\n"
     ]
    },
    {
     "name": "stdout",
     "output_type": "stream",
     "text": [
      "< QA_Order datetime:2017-01-17 09:31:00 code:000001 price:9.15 towards:1 btype:0x01 order_id:Order_pR9gvJHx account:Acc_qodhKjYA status:300 >"
     ]
    },
    {
     "name": "stderr",
     "output_type": "stream",
     "text": [
      "QUANTAXIS>> code 000007 date 2017-01-20 price None order_model close amount_model by_amount"
     ]
    },
    {
     "name": "stdout",
     "output_type": "stream",
     "text": [
      "\n"
     ]
    },
    {
     "name": "stderr",
     "output_type": "stream",
     "text": [
      "\n"
     ]
    },
    {
     "name": "stdout",
     "output_type": "stream",
     "text": [
      "< QA_Order datetime:2017-01-17 09:31:00 code:000002 price:20.8 towards:-1 btype:0x01 order_id:Order_Hb14fNMQ account:Acc_qodhKjYA status:300 >===== SETTLED None =====\n",
      "\n",
      "< QA_Order datetime:2017-01-17 09:31:00 code:000004 price:37.37 towards:-1 btype:0x01 order_id:Order_eNVLOiUH account:Acc_qodhKjYA status:300 >\n"
     ]
    },
    {
     "name": "stderr",
     "output_type": "stream",
     "text": [
      "QUANTAXIS>> MARKET WARING: SOMEING WRONG WITH ORDER \n",
      " "
     ]
    },
    {
     "name": "stdout",
     "output_type": "stream",
     "text": [
      "< QA_Order datetime:2017-01-18 09:31:00 code:000001 price:9.17 towards:1 btype:0x01 order_id:Order_dZc7DpmE account:Acc_qodhKjYA status:300 >"
     ]
    },
    {
     "name": "stderr",
     "output_type": "stream",
     "text": [
      "\n"
     ]
    },
    {
     "name": "stdout",
     "output_type": "stream",
     "text": [
      "\n"
     ]
    },
    {
     "name": "stderr",
     "output_type": "stream",
     "text": [
      "QUANTAXIS>> code 000007 date 2017-01-23 price None order_model close amount_model by_amount"
     ]
    },
    {
     "name": "stdout",
     "output_type": "stream",
     "text": [
      "< QA_Order datetime:2017-01-18 09:31:00 code:000002 price:20.92 towards:-1 btype:0x01 order_id:Order_mnFckbO5 account:Acc_qodhKjYA status:300 >"
     ]
    },
    {
     "name": "stderr",
     "output_type": "stream",
     "text": [
      "\n"
     ]
    },
    {
     "name": "stdout",
     "output_type": "stream",
     "text": [
      "\n",
      "===== SETTLED None =====< QA_Order datetime:2017-01-18 09:31:00 code:000004 price:37.15 towards:1 btype:0x01 order_id:Order_ACNrVR7o account:Acc_qodhKjYA status:300 >\n",
      "\n",
      "< QA_Order datetime:2017-01-19 09:31:00 code:000001 price:9.18 towards:-1 btype:0x01 order_id:Order_ARKqokz0 account:Acc_qodhKjYA status:300 >"
     ]
    },
    {
     "name": "stderr",
     "output_type": "stream",
     "text": [
      "QUANTAXIS>> MARKET WARING: SOMEING WRONG WITH ORDER \n",
      " \n"
     ]
    },
    {
     "name": "stdout",
     "output_type": "stream",
     "text": [
      "\n"
     ]
    },
    {
     "name": "stderr",
     "output_type": "stream",
     "text": [
      "QUANTAXIS>> code 000007 date 2017-01-24 price None order_model close amount_model by_amount"
     ]
    },
    {
     "name": "stdout",
     "output_type": "stream",
     "text": [
      "< QA_Order datetime:2017-01-19 09:31:00 code:000002 price:20.6 towards:1 btype:0x01 order_id:Order_KoN0Xi5h account:Acc_qodhKjYA status:300 >"
     ]
    },
    {
     "name": "stderr",
     "output_type": "stream",
     "text": [
      "\n"
     ]
    },
    {
     "name": "stdout",
     "output_type": "stream",
     "text": [
      "\n",
      "===== SETTLED None =====\n",
      "< QA_Order datetime:2017-01-19 09:31:00 code:000004 price:35.69 towards:-1 btype:0x01 order_id:Order_6M4VSkD7 account:Acc_qodhKjYA status:300 >\n"
     ]
    },
    {
     "name": "stderr",
     "output_type": "stream",
     "text": [
      "QUANTAXIS>> MARKET WARING: SOMEING WRONG WITH ORDER \n",
      " "
     ]
    },
    {
     "name": "stdout",
     "output_type": "stream",
     "text": [
      "< QA_Order datetime:2017-01-20 09:31:00 code:000001 price:9.22 towards:-1 btype:0x01 order_id:Order_KPp9BCE0 account:Acc_qodhKjYA status:300 >"
     ]
    },
    {
     "name": "stderr",
     "output_type": "stream",
     "text": [
      "\n"
     ]
    },
    {
     "name": "stdout",
     "output_type": "stream",
     "text": [
      "\n"
     ]
    },
    {
     "name": "stderr",
     "output_type": "stream",
     "text": [
      "QUANTAXIS>> code 000007 date 2017-01-25 price None order_model close amount_model by_amount"
     ]
    },
    {
     "name": "stdout",
     "output_type": "stream",
     "text": [
      "< QA_Order datetime:2017-01-20 09:31:00 code:000002 price:20.68 towards:-1 btype:0x01 order_id:Order_57go34Ez account:Acc_qodhKjYA status:300 >"
     ]
    },
    {
     "name": "stderr",
     "output_type": "stream",
     "text": [
      "\n"
     ]
    },
    {
     "name": "stdout",
     "output_type": "stream",
     "text": [
      "\n",
      "< QA_Order datetime:2017-01-20 09:31:00 code:000004 price:36.48 towards:1 btype:0x01 order_id:Order_Cnr7ZX92 account:Acc_qodhKjYA status:300 >===== SETTLED None =====\n",
      "\n",
      "< QA_Order datetime:2017-01-23 09:31:00 code:000001 price:9.22 towards:1 btype:0x01 order_id:Order_d7zOPegF account:Acc_qodhKjYA status:300 >\n"
     ]
    },
    {
     "name": "stderr",
     "output_type": "stream",
     "text": [
      "QUANTAXIS>> MARKET WARING: SOMEING WRONG WITH ORDER \n",
      " \n"
     ]
    },
    {
     "name": "stdout",
     "output_type": "stream",
     "text": [
      "< QA_Order datetime:2017-01-23 09:31:00 code:000002 price:20.74 towards:-1 btype:0x01 order_id:Order_FBhUSY1R account:Acc_qodhKjYA status:300 >"
     ]
    },
    {
     "name": "stderr",
     "output_type": "stream",
     "text": [
      "QUANTAXIS>> code 000007 date 2017-01-26 price None order_model close amount_model by_amount"
     ]
    },
    {
     "name": "stdout",
     "output_type": "stream",
     "text": [
      "\n"
     ]
    },
    {
     "name": "stderr",
     "output_type": "stream",
     "text": [
      "\n"
     ]
    },
    {
     "name": "stdout",
     "output_type": "stream",
     "text": [
      "< QA_Order datetime:2017-01-23 09:31:00 code:000004 price:37.56 towards:-1 btype:0x01 order_id:Order_l1aOzjgy account:Acc_qodhKjYA status:300 >\n",
      "===== SETTLED None =====< QA_Order datetime:2017-01-24 09:31:00 code:000001 price:9.27 towards:1 btype:0x01 order_id:Order_knrICGO0 account:Acc_qodhKjYA status:300 >\n",
      "\n",
      "< QA_Order datetime:2017-01-24 09:31:00 code:000002 price:20.69 towards:-1 btype:0x01 order_id:Order_vZSU16CH account:Acc_qodhKjYA status:300 >\n",
      "< QA_Order datetime:2017-01-24 09:31:00 code:000004 price:38.63 towards:1 btype:0x01 order_id:Order_m0vaxgJ9 account:Acc_qodhKjYA status:300 >\n",
      "< QA_Order datetime:2017-01-25 09:31:00 code:000001 price:9.26 towards:-1 btype:0x01 order_id:Order_BCuRf0wg account:Acc_qodhKjYA status:300 >\n",
      "< QA_Order datetime:2017-01-25 09:31:00 code:000002 price:20.61 towards:1 btype:0x01 order_id:Order_JFP0rwkj account:Acc_qodhKjYA status:300 >\n",
      "< QA_Order datetime:2017-01-25 09:31:00 code:000004 price:38.25 towards:1 btype:0x01 order_id:Order_rDNI4cFT account:Acc_qodhKjYA status:300 >\n",
      "< QA_Order datetime:2017-01-26 09:31:00 code:000001 price:9.33 towards:1 btype:0x01 order_id:Order_C6INtGAy account:Acc_qodhKjYA status:300 >\n",
      "< QA_Order datetime:2017-01-26 09:31:00 code:000002 price:20.68 towards:-1 btype:0x01 order_id:Order_T7IZhBbW account:Acc_qodhKjYA status:300 >\n",
      "< QA_Order datetime:2017-01-26 09:31:00 code:000004 price:38.29 towards:-1 btype:0x01 order_id:Order_WKrcN0QE account:Acc_qodhKjYA status:300 >\n",
      "[['2017-01-03 09:31:00', '000001', 9.16, 1000.0, 'Order_t3ynV6vB', 'Trade_yWxiImZJ', 13.74], ['2017-01-03 09:31:00', '000002', 20.73, 1000.0, 'Order_braSVeKA', 'Trade_ZG8EnP4b', 31.095000000000002], ['2017-01-03 09:31:00', '000004', 44.45, 1000.0, 'Order_C124PhsZ', 'Trade_qDPVeGvX', 66.67500000000001], ['2017-01-04 09:31:00', '000002', 20.85, 1000.0, 'Order_8g0UGjDQ', 'Trade_QEeS78mr', 31.275000000000006], ['2017-01-04 09:31:00', '000004', 44.7, 1000.0, 'Order_vYJLuCnQ', 'Trade_u0ratNUF', 67.05000000000001], ['2017-01-05 09:31:00', '000001', 9.17, 1000.0, 'Order_8LQWCP2b', 'Trade_t8RPsJFv', 13.754999999999999], ['2017-01-06 09:31:00', '000002', 20.64, 1000.0, 'Order_dPyHiRTv', 'Trade_5mDyjKP7', 30.96], ['2017-01-06 09:31:00', '000004', 43.96, 1000.0, 'Order_jeVmYhoQ', 'Trade_Ud9WTr2V', 65.94], ['2017-01-09 09:31:00', '000001', 9.15, -1000.0, 'Order_dHTN10cY', 'Trade_zt4wOBm0', 13.725000000000001], ['2017-01-09 09:31:00', '000002', 20.66, -1000.0, 'Order_NZeJ68Hy', 'Trade_sYAHd75i', 30.99], ['2017-01-09 09:31:00', '000004', 43.01, -1000.0, 'Order_H1N2PX67', 'Trade_hslCMG6f', 64.515], ['2017-01-10 09:31:00', '000001', 9.15, -1000.0, 'Order_V17SDEi5', 'Trade_daICNsYg', 13.725000000000001], ['2017-01-10 09:31:00', '000002', 20.58, 1000.0, 'Order_x3ykpEwX', 'Trade_a7U2G36s', 30.869999999999997], ['2017-01-10 09:31:00', '000004', 43.25, 1000.0, 'Order_zhDQw7d3', 'Trade_94hXcG1A', 64.875], ['2017-01-10 09:31:00', '000007', 24.79, 1000.0, 'Order_qFKbLnW0', 'Trade_BFHtabe9', 37.185], ['2017-01-11 09:31:00', '000001', 9.14, 1000.0, 'Order_12J38Vlw', 'Trade_RdSlHFxC', 13.71], ['2017-01-11 09:31:00', '000002', 20.4, 1000.0, 'Order_kBd3e1iF', 'Trade_VOMqf1a4', 30.599999999999998], ['2017-01-11 09:31:00', '000004', 42.45, 1000.0, 'Order_6Imcwb23', 'Trade_gKujeCc0', 63.67500000000001], ['2017-01-11 09:31:00', '000007', 24.85, 1000.0, 'Order_9kU6YWij', 'Trade_4qJFUA6y', 37.275000000000006], ['2017-01-12 09:31:00', '000001', 9.15, 1000.0, 'Order_d9je3k7i', 'Trade_dXN9ZFmt', 13.725000000000001], ['2017-01-12 09:31:00', '000004', 42.05, -1000.0, 'Order_HLFxkYcJ', 'Trade_cepozdbr', 63.07499999999999], ['2017-01-12 09:31:00', '000007', 24.61, 1000.0, 'Order_q3OZN0jg', 'Trade_D8ThHx5B', 36.915000000000006], ['2017-01-13 09:31:00', '000001', 9.16, -1000.0, 'Order_KW40qstA', 'Trade_RtoO8Das', 13.74], ['2017-01-13 09:31:00', '000002', 21.81, -1000.0, 'Order_BngMZyx9', 'Trade_OhAkzb0P', 32.715], ['2017-01-13 09:31:00', '000004', 41.0, -1000.0, 'Order_EMCIJ0Np', 'Trade_wT6amIdf', 61.5], ['2017-01-16 09:31:00', '000002', 21.0, 1000.0, 'Order_5TJwiYMQ', 'Trade_NYHSXGIf', 31.5], ['2017-01-16 09:31:00', '000004', 38.26, 1000.0, 'Order_cdLzWyT4', 'Trade_Jc9W8lZ6', 57.38999999999999], ['2017-01-17 09:31:00', '000001', 9.15, 1000.0, 'Order_pR9gvJHx', 'Trade_fk15SGjy', 13.725000000000001], ['2017-01-17 09:31:00', '000002', 20.8, -1000.0, 'Order_Hb14fNMQ', 'Trade_BvTZ1Mqf', 31.200000000000003], ['2017-01-17 09:31:00', '000004', 37.37, -1000.0, 'Order_eNVLOiUH', 'Trade_k7ZHisNI', 56.055], ['2017-01-18 09:31:00', '000001', 9.17, 1000.0, 'Order_dZc7DpmE', 'Trade_jGrs1IxQ', 13.754999999999999], ['2017-01-18 09:31:00', '000002', 20.92, -1000.0, 'Order_mnFckbO5', 'Trade_EW0qKtiy', 31.380000000000006], ['2017-01-18 09:31:00', '000004', 37.15, 1000.0, 'Order_ACNrVR7o', 'Trade_dlD8hvcB', 55.724999999999994], ['2017-01-19 09:31:00', '000001', 9.18, -1000.0, 'Order_ARKqokz0', 'Trade_YoZ3xFnE', 13.77], ['2017-01-19 09:31:00', '000002', 20.6, 1000.0, 'Order_KoN0Xi5h', 'Trade_ZOwTWLsP', 30.900000000000002], ['2017-01-19 09:31:00', '000004', 35.69, -1000.0, 'Order_6M4VSkD7', 'Trade_9JXeMYp8', 53.535], ['2017-01-20 09:31:00', '000001', 9.22, -1000.0, 'Order_KPp9BCE0', 'Trade_Vq5ODe0I', 13.830000000000002], ['2017-01-20 09:31:00', '000002', 20.68, -1000.0, 'Order_57go34Ez', 'Trade_mux4vfe2', 31.02], ['2017-01-20 09:31:00', '000004', 36.48, 1000.0, 'Order_Cnr7ZX92', 'Trade_PNBW7y45', 54.72], ['2017-01-23 09:31:00', '000001', 9.22, 1000.0, 'Order_d7zOPegF', 'Trade_y8hAqPfE', 13.830000000000002], ['2017-01-23 09:31:00', '000002', 20.74, -1000.0, 'Order_FBhUSY1R', 'Trade_6dhFT1ib', 31.11], ['2017-01-23 09:31:00', '000004', 37.56, -1000.0, 'Order_l1aOzjgy', 'Trade_o3xjFlPW', 56.34], ['2017-01-24 09:31:00', '000001', 9.27, 1000.0, 'Order_knrICGO0', 'Trade_c1IxZz4k', 13.905], ['2017-01-24 09:31:00', '000002', 20.69, -1000.0, 'Order_vZSU16CH', 'Trade_cvjTohVH', 31.035000000000004], ['2017-01-24 09:31:00', '000004', 38.63, 1000.0, 'Order_m0vaxgJ9', 'Trade_dhZ781qy', 57.945], ['2017-01-25 09:31:00', '000001', 9.26, -1000.0, 'Order_BCuRf0wg', 'Trade_0A7nU23T', 13.889999999999999], ['2017-01-25 09:31:00', '000002', 20.61, 1000.0, 'Order_JFP0rwkj', 'Trade_5R9jBgWx', 30.915000000000003], ['2017-01-25 09:31:00', '000004', 38.25, 1000.0, 'Order_rDNI4cFT', 'Trade_lXWg4wJj', 57.375], ['2017-01-26 09:31:00', '000001', 9.33, 1000.0, 'Order_C6INtGAy', 'Trade_fXzUwt8N', 13.995000000000001], ['2017-01-26 09:31:00', '000002', 20.68, -1000.0, 'Order_T7IZhBbW', 'Trade_6XYrvqxU', 31.02], ['2017-01-26 09:31:00', '000004', 38.29, -1000.0, 'Order_WKrcN0QE', 'Trade_NnkTfl12', 57.435]]\n",
      "[1000000, 990826.26, 970065.165, 925548.49, 904667.215, 859900.1649999999, 850716.4099999999, 830045.45, 786019.51, 795155.785, 815784.795, 858730.28, 867866.555, 847255.685, 803940.81, 779113.625, 769959.915, 749529.3150000001, 707015.64, 682128.365, 672964.64, 714951.5650000001, 690304.65, 699450.91, 721228.1950000001, 762166.6950000001, 741135.1950000001, 702817.805, 693654.0800000001, 714422.8800000001, 751736.8250000001, 742553.0700000001, 763441.6900000001, 726235.9650000001, 735402.1950000001, 714771.295, 750407.76, 759613.93, 780262.91, 743728.1900000001, 734494.3600000001, 755203.2500000001, 792706.9100000001, 783423.0050000001, 804081.9700000001, 765394.0250000001, 774640.1350000001, 753999.2200000001, 715691.8450000001, 706347.8500000001, 726996.8300000001, 765229.395]\n",
      "765229.395\n",
      "               datetime    code  price  amount        order_id  \\\n",
      "0   2017-01-03 09:31:00  000001   9.16  1000.0  Order_t3ynV6vB   \n",
      "1   2017-01-03 09:31:00  000002  20.73  1000.0  Order_braSVeKA   \n",
      "2   2017-01-03 09:31:00  000004  44.45  1000.0  Order_C124PhsZ   \n",
      "3   2017-01-04 09:31:00  000002  20.85  1000.0  Order_8g0UGjDQ   \n",
      "4   2017-01-04 09:31:00  000004  44.70  1000.0  Order_vYJLuCnQ   \n",
      "5   2017-01-05 09:31:00  000001   9.17  1000.0  Order_8LQWCP2b   \n",
      "6   2017-01-06 09:31:00  000002  20.64  1000.0  Order_dPyHiRTv   \n",
      "7   2017-01-06 09:31:00  000004  43.96  1000.0  Order_jeVmYhoQ   \n",
      "8   2017-01-09 09:31:00  000001   9.15 -1000.0  Order_dHTN10cY   \n",
      "9   2017-01-09 09:31:00  000002  20.66 -1000.0  Order_NZeJ68Hy   \n",
      "10  2017-01-09 09:31:00  000004  43.01 -1000.0  Order_H1N2PX67   \n",
      "11  2017-01-10 09:31:00  000001   9.15 -1000.0  Order_V17SDEi5   \n",
      "12  2017-01-10 09:31:00  000002  20.58  1000.0  Order_x3ykpEwX   \n",
      "13  2017-01-10 09:31:00  000004  43.25  1000.0  Order_zhDQw7d3   \n",
      "14  2017-01-10 09:31:00  000007  24.79  1000.0  Order_qFKbLnW0   \n",
      "15  2017-01-11 09:31:00  000001   9.14  1000.0  Order_12J38Vlw   \n",
      "16  2017-01-11 09:31:00  000002  20.40  1000.0  Order_kBd3e1iF   \n",
      "17  2017-01-11 09:31:00  000004  42.45  1000.0  Order_6Imcwb23   \n",
      "18  2017-01-11 09:31:00  000007  24.85  1000.0  Order_9kU6YWij   \n",
      "19  2017-01-12 09:31:00  000001   9.15  1000.0  Order_d9je3k7i   \n",
      "20  2017-01-12 09:31:00  000004  42.05 -1000.0  Order_HLFxkYcJ   \n",
      "21  2017-01-12 09:31:00  000007  24.61  1000.0  Order_q3OZN0jg   \n",
      "22  2017-01-13 09:31:00  000001   9.16 -1000.0  Order_KW40qstA   \n",
      "23  2017-01-13 09:31:00  000002  21.81 -1000.0  Order_BngMZyx9   \n",
      "24  2017-01-13 09:31:00  000004  41.00 -1000.0  Order_EMCIJ0Np   \n",
      "25  2017-01-16 09:31:00  000002  21.00  1000.0  Order_5TJwiYMQ   \n",
      "26  2017-01-16 09:31:00  000004  38.26  1000.0  Order_cdLzWyT4   \n",
      "27  2017-01-17 09:31:00  000001   9.15  1000.0  Order_pR9gvJHx   \n",
      "28  2017-01-17 09:31:00  000002  20.80 -1000.0  Order_Hb14fNMQ   \n",
      "29  2017-01-17 09:31:00  000004  37.37 -1000.0  Order_eNVLOiUH   \n",
      "30  2017-01-18 09:31:00  000001   9.17  1000.0  Order_dZc7DpmE   \n",
      "31  2017-01-18 09:31:00  000002  20.92 -1000.0  Order_mnFckbO5   \n",
      "32  2017-01-18 09:31:00  000004  37.15  1000.0  Order_ACNrVR7o   \n",
      "33  2017-01-19 09:31:00  000001   9.18 -1000.0  Order_ARKqokz0   \n",
      "34  2017-01-19 09:31:00  000002  20.60  1000.0  Order_KoN0Xi5h   \n",
      "35  2017-01-19 09:31:00  000004  35.69 -1000.0  Order_6M4VSkD7   \n",
      "36  2017-01-20 09:31:00  000001   9.22 -1000.0  Order_KPp9BCE0   \n",
      "37  2017-01-20 09:31:00  000002  20.68 -1000.0  Order_57go34Ez   \n",
      "38  2017-01-20 09:31:00  000004  36.48  1000.0  Order_Cnr7ZX92   \n",
      "39  2017-01-23 09:31:00  000001   9.22  1000.0  Order_d7zOPegF   \n",
      "40  2017-01-23 09:31:00  000002  20.74 -1000.0  Order_FBhUSY1R   \n",
      "41  2017-01-23 09:31:00  000004  37.56 -1000.0  Order_l1aOzjgy   \n",
      "42  2017-01-24 09:31:00  000001   9.27  1000.0  Order_knrICGO0   \n",
      "43  2017-01-24 09:31:00  000002  20.69 -1000.0  Order_vZSU16CH   \n",
      "44  2017-01-24 09:31:00  000004  38.63  1000.0  Order_m0vaxgJ9   \n",
      "45  2017-01-25 09:31:00  000001   9.26 -1000.0  Order_BCuRf0wg   \n",
      "46  2017-01-25 09:31:00  000002  20.61  1000.0  Order_JFP0rwkj   \n",
      "47  2017-01-25 09:31:00  000004  38.25  1000.0  Order_rDNI4cFT   \n",
      "48  2017-01-26 09:31:00  000001   9.33  1000.0  Order_C6INtGAy   \n",
      "49  2017-01-26 09:31:00  000002  20.68 -1000.0  Order_T7IZhBbW   \n",
      "50  2017-01-26 09:31:00  000004  38.29 -1000.0  Order_WKrcN0QE   \n",
      "\n",
      "          trade_id  commission_fee  \n",
      "0   Trade_yWxiImZJ          13.740  \n",
      "1   Trade_ZG8EnP4b          31.095  \n",
      "2   Trade_qDPVeGvX          66.675  \n",
      "3   Trade_QEeS78mr          31.275  \n",
      "4   Trade_u0ratNUF          67.050  \n",
      "5   Trade_t8RPsJFv          13.755  \n",
      "6   Trade_5mDyjKP7          30.960  \n",
      "7   Trade_Ud9WTr2V          65.940  \n",
      "8   Trade_zt4wOBm0          13.725  \n",
      "9   Trade_sYAHd75i          30.990  \n",
      "10  Trade_hslCMG6f          64.515  \n",
      "11  Trade_daICNsYg          13.725  \n",
      "12  Trade_a7U2G36s          30.870  \n",
      "13  Trade_94hXcG1A          64.875  \n",
      "14  Trade_BFHtabe9          37.185  \n",
      "15  Trade_RdSlHFxC          13.710  \n",
      "16  Trade_VOMqf1a4          30.600  \n",
      "17  Trade_gKujeCc0          63.675  \n",
      "18  Trade_4qJFUA6y          37.275  \n",
      "19  Trade_dXN9ZFmt          13.725  \n",
      "20  Trade_cepozdbr          63.075  \n",
      "21  Trade_D8ThHx5B          36.915  \n",
      "22  Trade_RtoO8Das          13.740  \n",
      "23  Trade_OhAkzb0P          32.715  \n",
      "24  Trade_wT6amIdf          61.500  \n",
      "25  Trade_NYHSXGIf          31.500  \n",
      "26  Trade_Jc9W8lZ6          57.390  \n",
      "27  Trade_fk15SGjy          13.725  \n",
      "28  Trade_BvTZ1Mqf          31.200  \n",
      "29  Trade_k7ZHisNI          56.055  \n",
      "30  Trade_jGrs1IxQ          13.755  \n",
      "31  Trade_EW0qKtiy          31.380  \n",
      "32  Trade_dlD8hvcB          55.725  \n",
      "33  Trade_YoZ3xFnE          13.770  \n",
      "34  Trade_ZOwTWLsP          30.900  \n",
      "35  Trade_9JXeMYp8          53.535  \n",
      "36  Trade_Vq5ODe0I          13.830  \n",
      "37  Trade_mux4vfe2          31.020  \n",
      "38  Trade_PNBW7y45          54.720  \n",
      "39  Trade_y8hAqPfE          13.830  \n",
      "40  Trade_6dhFT1ib          31.110  \n",
      "41  Trade_o3xjFlPW          56.340  \n",
      "42  Trade_c1IxZz4k          13.905  \n",
      "43  Trade_cvjTohVH          31.035  \n",
      "44  Trade_dhZ781qy          57.945  \n",
      "45  Trade_0A7nU23T          13.890  \n",
      "46  Trade_5R9jBgWx          30.915  \n",
      "47  Trade_lXWg4wJj          57.375  \n",
      "48  Trade_fXzUwt8N          13.995  \n",
      "49  Trade_6XYrvqxU          31.020  \n"
     ]
    },
    {
     "name": "stdout",
     "output_type": "stream",
     "text": [
      "50  Trade_NnkTfl12          57.435  \n",
      "code\n",
      "000001    3000.0\n",
      "000002       0.0\n",
      "000004    3000.0\n",
      "000007    3000.0\n",
      "Name: amount, dtype: float64\n"
     ]
    }
   ],
   "source": [
    "import QUANTAXIS as QA\n",
    "import random\n",
    "market = QA.QA_Market()\n",
    "user = QA.QA_Portfolio()\n",
    "# 创建两个account\n",
    "# 这里是创建一个资产组合,然后在组合里面创建两个account  你可以想象成股票里面的两个策略账户\n",
    "# 然后返回的是这个账户的id\n",
    "a_1 = user.new_account()\n",
    "\n",
    "market.start()\n",
    "market.connect(QA.RUNNING_ENVIRONMENT.BACKETEST)\n",
    "\n",
    "# 打印market\n",
    "print(market)\n",
    "\n",
    "\n",
    "\"\"\"\n",
    "登陆到这个交易前置上 把你刚才的两个账户\n",
    "\"\"\"\n",
    "# 登陆交易\n",
    "market.login(QA.BROKER_TYPE.BACKETEST, a_1, user.get_account(a_1))\n",
    "for date in QA.QA_util_get_trade_range('2017-01-01','2017-01-31'):\n",
    "    for code in ['000001', '000002', '000004', '000007']:\n",
    "        if random.random()<0.5:\n",
    "            market.insert_order(account_id=a_1, amount=1000, price=None, amount_model=QA.AMOUNT_MODEL.BY_AMOUNT, time=date, code=code,\n",
    "                                order_model=QA.ORDER_MODEL.CLOSE, towards=QA.ORDER_DIRECTION.BUY, market_type=QA.MARKET_TYPE.STOCK_DAY,\n",
    "                                data_type=QA.MARKETDATA_TYPE.DAY, broker_name=QA.BROKER_TYPE.BACKETEST)\n",
    "        else:\n",
    "            try:\n",
    "                market.insert_order(account_id=a_1, amount=1000, price=None, amount_model=QA.AMOUNT_MODEL.BY_AMOUNT, time=date, code=code,\n",
    "                                    order_model=QA.ORDER_MODEL.CLOSE, towards=QA.ORDER_DIRECTION.SELL, market_type=QA.MARKET_TYPE.STOCK_DAY,\n",
    "                                    data_type=QA.MARKETDATA_TYPE.DAY, broker_name=QA.BROKER_TYPE.BACKETEST)\n",
    "            except:\n",
    "                pass\n",
    "    market._settle(QA.BROKER_TYPE.BACKETEST)\n",
    "        \n",
    "while True:\n",
    "    if market.clear():\n",
    "        break\n",
    "print(user.get_account(a_1).history)\n",
    "print(user.get_account(a_1).cash)\n",
    "print(user.get_account(a_1).cash_available)\n",
    "print(user.get_account(a_1).history_table)\n",
    "print(user.get_account(a_1).hold)\n"
   ]
  },
  {
   "cell_type": "code",
   "execution_count": 2,
   "metadata": {},
   "outputs": [
    {
     "data": {
      "text/html": [
       "<div>\n",
       "<style>\n",
       "    .dataframe thead tr:only-child th {\n",
       "        text-align: right;\n",
       "    }\n",
       "\n",
       "    .dataframe thead th {\n",
       "        text-align: left;\n",
       "    }\n",
       "\n",
       "    .dataframe tbody tr th {\n",
       "        vertical-align: top;\n",
       "    }\n",
       "</style>\n",
       "<table border=\"1\" class=\"dataframe\">\n",
       "  <thead>\n",
       "    <tr style=\"text-align: right;\">\n",
       "      <th></th>\n",
       "      <th>datetime</th>\n",
       "      <th>code</th>\n",
       "      <th>price</th>\n",
       "      <th>amount</th>\n",
       "      <th>order_id</th>\n",
       "      <th>trade_id</th>\n",
       "      <th>commission_fee</th>\n",
       "    </tr>\n",
       "  </thead>\n",
       "  <tbody>\n",
       "    <tr>\n",
       "      <th>0</th>\n",
       "      <td>2017-01-03 09:31:00</td>\n",
       "      <td>000001</td>\n",
       "      <td>9.16</td>\n",
       "      <td>1000.0</td>\n",
       "      <td>Order_t3ynV6vB</td>\n",
       "      <td>Trade_yWxiImZJ</td>\n",
       "      <td>13.740</td>\n",
       "    </tr>\n",
       "    <tr>\n",
       "      <th>1</th>\n",
       "      <td>2017-01-03 09:31:00</td>\n",
       "      <td>000002</td>\n",
       "      <td>20.73</td>\n",
       "      <td>1000.0</td>\n",
       "      <td>Order_braSVeKA</td>\n",
       "      <td>Trade_ZG8EnP4b</td>\n",
       "      <td>31.095</td>\n",
       "    </tr>\n",
       "    <tr>\n",
       "      <th>2</th>\n",
       "      <td>2017-01-03 09:31:00</td>\n",
       "      <td>000004</td>\n",
       "      <td>44.45</td>\n",
       "      <td>1000.0</td>\n",
       "      <td>Order_C124PhsZ</td>\n",
       "      <td>Trade_qDPVeGvX</td>\n",
       "      <td>66.675</td>\n",
       "    </tr>\n",
       "    <tr>\n",
       "      <th>3</th>\n",
       "      <td>2017-01-04 09:31:00</td>\n",
       "      <td>000002</td>\n",
       "      <td>20.85</td>\n",
       "      <td>1000.0</td>\n",
       "      <td>Order_8g0UGjDQ</td>\n",
       "      <td>Trade_QEeS78mr</td>\n",
       "      <td>31.275</td>\n",
       "    </tr>\n",
       "    <tr>\n",
       "      <th>4</th>\n",
       "      <td>2017-01-04 09:31:00</td>\n",
       "      <td>000004</td>\n",
       "      <td>44.70</td>\n",
       "      <td>1000.0</td>\n",
       "      <td>Order_vYJLuCnQ</td>\n",
       "      <td>Trade_u0ratNUF</td>\n",
       "      <td>67.050</td>\n",
       "    </tr>\n",
       "    <tr>\n",
       "      <th>5</th>\n",
       "      <td>2017-01-05 09:31:00</td>\n",
       "      <td>000001</td>\n",
       "      <td>9.17</td>\n",
       "      <td>1000.0</td>\n",
       "      <td>Order_8LQWCP2b</td>\n",
       "      <td>Trade_t8RPsJFv</td>\n",
       "      <td>13.755</td>\n",
       "    </tr>\n",
       "    <tr>\n",
       "      <th>6</th>\n",
       "      <td>2017-01-06 09:31:00</td>\n",
       "      <td>000002</td>\n",
       "      <td>20.64</td>\n",
       "      <td>1000.0</td>\n",
       "      <td>Order_dPyHiRTv</td>\n",
       "      <td>Trade_5mDyjKP7</td>\n",
       "      <td>30.960</td>\n",
       "    </tr>\n",
       "    <tr>\n",
       "      <th>7</th>\n",
       "      <td>2017-01-06 09:31:00</td>\n",
       "      <td>000004</td>\n",
       "      <td>43.96</td>\n",
       "      <td>1000.0</td>\n",
       "      <td>Order_jeVmYhoQ</td>\n",
       "      <td>Trade_Ud9WTr2V</td>\n",
       "      <td>65.940</td>\n",
       "    </tr>\n",
       "    <tr>\n",
       "      <th>8</th>\n",
       "      <td>2017-01-09 09:31:00</td>\n",
       "      <td>000001</td>\n",
       "      <td>9.15</td>\n",
       "      <td>-1000.0</td>\n",
       "      <td>Order_dHTN10cY</td>\n",
       "      <td>Trade_zt4wOBm0</td>\n",
       "      <td>13.725</td>\n",
       "    </tr>\n",
       "    <tr>\n",
       "      <th>9</th>\n",
       "      <td>2017-01-09 09:31:00</td>\n",
       "      <td>000002</td>\n",
       "      <td>20.66</td>\n",
       "      <td>-1000.0</td>\n",
       "      <td>Order_NZeJ68Hy</td>\n",
       "      <td>Trade_sYAHd75i</td>\n",
       "      <td>30.990</td>\n",
       "    </tr>\n",
       "    <tr>\n",
       "      <th>10</th>\n",
       "      <td>2017-01-09 09:31:00</td>\n",
       "      <td>000004</td>\n",
       "      <td>43.01</td>\n",
       "      <td>-1000.0</td>\n",
       "      <td>Order_H1N2PX67</td>\n",
       "      <td>Trade_hslCMG6f</td>\n",
       "      <td>64.515</td>\n",
       "    </tr>\n",
       "    <tr>\n",
       "      <th>11</th>\n",
       "      <td>2017-01-10 09:31:00</td>\n",
       "      <td>000001</td>\n",
       "      <td>9.15</td>\n",
       "      <td>-1000.0</td>\n",
       "      <td>Order_V17SDEi5</td>\n",
       "      <td>Trade_daICNsYg</td>\n",
       "      <td>13.725</td>\n",
       "    </tr>\n",
       "    <tr>\n",
       "      <th>12</th>\n",
       "      <td>2017-01-10 09:31:00</td>\n",
       "      <td>000002</td>\n",
       "      <td>20.58</td>\n",
       "      <td>1000.0</td>\n",
       "      <td>Order_x3ykpEwX</td>\n",
       "      <td>Trade_a7U2G36s</td>\n",
       "      <td>30.870</td>\n",
       "    </tr>\n",
       "    <tr>\n",
       "      <th>13</th>\n",
       "      <td>2017-01-10 09:31:00</td>\n",
       "      <td>000004</td>\n",
       "      <td>43.25</td>\n",
       "      <td>1000.0</td>\n",
       "      <td>Order_zhDQw7d3</td>\n",
       "      <td>Trade_94hXcG1A</td>\n",
       "      <td>64.875</td>\n",
       "    </tr>\n",
       "    <tr>\n",
       "      <th>14</th>\n",
       "      <td>2017-01-10 09:31:00</td>\n",
       "      <td>000007</td>\n",
       "      <td>24.79</td>\n",
       "      <td>1000.0</td>\n",
       "      <td>Order_qFKbLnW0</td>\n",
       "      <td>Trade_BFHtabe9</td>\n",
       "      <td>37.185</td>\n",
       "    </tr>\n",
       "    <tr>\n",
       "      <th>15</th>\n",
       "      <td>2017-01-11 09:31:00</td>\n",
       "      <td>000001</td>\n",
       "      <td>9.14</td>\n",
       "      <td>1000.0</td>\n",
       "      <td>Order_12J38Vlw</td>\n",
       "      <td>Trade_RdSlHFxC</td>\n",
       "      <td>13.710</td>\n",
       "    </tr>\n",
       "    <tr>\n",
       "      <th>16</th>\n",
       "      <td>2017-01-11 09:31:00</td>\n",
       "      <td>000002</td>\n",
       "      <td>20.40</td>\n",
       "      <td>1000.0</td>\n",
       "      <td>Order_kBd3e1iF</td>\n",
       "      <td>Trade_VOMqf1a4</td>\n",
       "      <td>30.600</td>\n",
       "    </tr>\n",
       "    <tr>\n",
       "      <th>17</th>\n",
       "      <td>2017-01-11 09:31:00</td>\n",
       "      <td>000004</td>\n",
       "      <td>42.45</td>\n",
       "      <td>1000.0</td>\n",
       "      <td>Order_6Imcwb23</td>\n",
       "      <td>Trade_gKujeCc0</td>\n",
       "      <td>63.675</td>\n",
       "    </tr>\n",
       "    <tr>\n",
       "      <th>18</th>\n",
       "      <td>2017-01-11 09:31:00</td>\n",
       "      <td>000007</td>\n",
       "      <td>24.85</td>\n",
       "      <td>1000.0</td>\n",
       "      <td>Order_9kU6YWij</td>\n",
       "      <td>Trade_4qJFUA6y</td>\n",
       "      <td>37.275</td>\n",
       "    </tr>\n",
       "    <tr>\n",
       "      <th>19</th>\n",
       "      <td>2017-01-12 09:31:00</td>\n",
       "      <td>000001</td>\n",
       "      <td>9.15</td>\n",
       "      <td>1000.0</td>\n",
       "      <td>Order_d9je3k7i</td>\n",
       "      <td>Trade_dXN9ZFmt</td>\n",
       "      <td>13.725</td>\n",
       "    </tr>\n",
       "    <tr>\n",
       "      <th>20</th>\n",
       "      <td>2017-01-12 09:31:00</td>\n",
       "      <td>000004</td>\n",
       "      <td>42.05</td>\n",
       "      <td>-1000.0</td>\n",
       "      <td>Order_HLFxkYcJ</td>\n",
       "      <td>Trade_cepozdbr</td>\n",
       "      <td>63.075</td>\n",
       "    </tr>\n",
       "    <tr>\n",
       "      <th>21</th>\n",
       "      <td>2017-01-12 09:31:00</td>\n",
       "      <td>000007</td>\n",
       "      <td>24.61</td>\n",
       "      <td>1000.0</td>\n",
       "      <td>Order_q3OZN0jg</td>\n",
       "      <td>Trade_D8ThHx5B</td>\n",
       "      <td>36.915</td>\n",
       "    </tr>\n",
       "    <tr>\n",
       "      <th>22</th>\n",
       "      <td>2017-01-13 09:31:00</td>\n",
       "      <td>000001</td>\n",
       "      <td>9.16</td>\n",
       "      <td>-1000.0</td>\n",
       "      <td>Order_KW40qstA</td>\n",
       "      <td>Trade_RtoO8Das</td>\n",
       "      <td>13.740</td>\n",
       "    </tr>\n",
       "    <tr>\n",
       "      <th>23</th>\n",
       "      <td>2017-01-13 09:31:00</td>\n",
       "      <td>000002</td>\n",
       "      <td>21.81</td>\n",
       "      <td>-1000.0</td>\n",
       "      <td>Order_BngMZyx9</td>\n",
       "      <td>Trade_OhAkzb0P</td>\n",
       "      <td>32.715</td>\n",
       "    </tr>\n",
       "    <tr>\n",
       "      <th>24</th>\n",
       "      <td>2017-01-13 09:31:00</td>\n",
       "      <td>000004</td>\n",
       "      <td>41.00</td>\n",
       "      <td>-1000.0</td>\n",
       "      <td>Order_EMCIJ0Np</td>\n",
       "      <td>Trade_wT6amIdf</td>\n",
       "      <td>61.500</td>\n",
       "    </tr>\n",
       "    <tr>\n",
       "      <th>25</th>\n",
       "      <td>2017-01-16 09:31:00</td>\n",
       "      <td>000002</td>\n",
       "      <td>21.00</td>\n",
       "      <td>1000.0</td>\n",
       "      <td>Order_5TJwiYMQ</td>\n",
       "      <td>Trade_NYHSXGIf</td>\n",
       "      <td>31.500</td>\n",
       "    </tr>\n",
       "    <tr>\n",
       "      <th>26</th>\n",
       "      <td>2017-01-16 09:31:00</td>\n",
       "      <td>000004</td>\n",
       "      <td>38.26</td>\n",
       "      <td>1000.0</td>\n",
       "      <td>Order_cdLzWyT4</td>\n",
       "      <td>Trade_Jc9W8lZ6</td>\n",
       "      <td>57.390</td>\n",
       "    </tr>\n",
       "    <tr>\n",
       "      <th>27</th>\n",
       "      <td>2017-01-17 09:31:00</td>\n",
       "      <td>000001</td>\n",
       "      <td>9.15</td>\n",
       "      <td>1000.0</td>\n",
       "      <td>Order_pR9gvJHx</td>\n",
       "      <td>Trade_fk15SGjy</td>\n",
       "      <td>13.725</td>\n",
       "    </tr>\n",
       "    <tr>\n",
       "      <th>28</th>\n",
       "      <td>2017-01-17 09:31:00</td>\n",
       "      <td>000002</td>\n",
       "      <td>20.80</td>\n",
       "      <td>-1000.0</td>\n",
       "      <td>Order_Hb14fNMQ</td>\n",
       "      <td>Trade_BvTZ1Mqf</td>\n",
       "      <td>31.200</td>\n",
       "    </tr>\n",
       "    <tr>\n",
       "      <th>29</th>\n",
       "      <td>2017-01-17 09:31:00</td>\n",
       "      <td>000004</td>\n",
       "      <td>37.37</td>\n",
       "      <td>-1000.0</td>\n",
       "      <td>Order_eNVLOiUH</td>\n",
       "      <td>Trade_k7ZHisNI</td>\n",
       "      <td>56.055</td>\n",
       "    </tr>\n",
       "    <tr>\n",
       "      <th>30</th>\n",
       "      <td>2017-01-18 09:31:00</td>\n",
       "      <td>000001</td>\n",
       "      <td>9.17</td>\n",
       "      <td>1000.0</td>\n",
       "      <td>Order_dZc7DpmE</td>\n",
       "      <td>Trade_jGrs1IxQ</td>\n",
       "      <td>13.755</td>\n",
       "    </tr>\n",
       "    <tr>\n",
       "      <th>31</th>\n",
       "      <td>2017-01-18 09:31:00</td>\n",
       "      <td>000002</td>\n",
       "      <td>20.92</td>\n",
       "      <td>-1000.0</td>\n",
       "      <td>Order_mnFckbO5</td>\n",
       "      <td>Trade_EW0qKtiy</td>\n",
       "      <td>31.380</td>\n",
       "    </tr>\n",
       "    <tr>\n",
       "      <th>32</th>\n",
       "      <td>2017-01-18 09:31:00</td>\n",
       "      <td>000004</td>\n",
       "      <td>37.15</td>\n",
       "      <td>1000.0</td>\n",
       "      <td>Order_ACNrVR7o</td>\n",
       "      <td>Trade_dlD8hvcB</td>\n",
       "      <td>55.725</td>\n",
       "    </tr>\n",
       "    <tr>\n",
       "      <th>33</th>\n",
       "      <td>2017-01-19 09:31:00</td>\n",
       "      <td>000001</td>\n",
       "      <td>9.18</td>\n",
       "      <td>-1000.0</td>\n",
       "      <td>Order_ARKqokz0</td>\n",
       "      <td>Trade_YoZ3xFnE</td>\n",
       "      <td>13.770</td>\n",
       "    </tr>\n",
       "    <tr>\n",
       "      <th>34</th>\n",
       "      <td>2017-01-19 09:31:00</td>\n",
       "      <td>000002</td>\n",
       "      <td>20.60</td>\n",
       "      <td>1000.0</td>\n",
       "      <td>Order_KoN0Xi5h</td>\n",
       "      <td>Trade_ZOwTWLsP</td>\n",
       "      <td>30.900</td>\n",
       "    </tr>\n",
       "    <tr>\n",
       "      <th>35</th>\n",
       "      <td>2017-01-19 09:31:00</td>\n",
       "      <td>000004</td>\n",
       "      <td>35.69</td>\n",
       "      <td>-1000.0</td>\n",
       "      <td>Order_6M4VSkD7</td>\n",
       "      <td>Trade_9JXeMYp8</td>\n",
       "      <td>53.535</td>\n",
       "    </tr>\n",
       "    <tr>\n",
       "      <th>36</th>\n",
       "      <td>2017-01-20 09:31:00</td>\n",
       "      <td>000001</td>\n",
       "      <td>9.22</td>\n",
       "      <td>-1000.0</td>\n",
       "      <td>Order_KPp9BCE0</td>\n",
       "      <td>Trade_Vq5ODe0I</td>\n",
       "      <td>13.830</td>\n",
       "    </tr>\n",
       "    <tr>\n",
       "      <th>37</th>\n",
       "      <td>2017-01-20 09:31:00</td>\n",
       "      <td>000002</td>\n",
       "      <td>20.68</td>\n",
       "      <td>-1000.0</td>\n",
       "      <td>Order_57go34Ez</td>\n",
       "      <td>Trade_mux4vfe2</td>\n",
       "      <td>31.020</td>\n",
       "    </tr>\n",
       "    <tr>\n",
       "      <th>38</th>\n",
       "      <td>2017-01-20 09:31:00</td>\n",
       "      <td>000004</td>\n",
       "      <td>36.48</td>\n",
       "      <td>1000.0</td>\n",
       "      <td>Order_Cnr7ZX92</td>\n",
       "      <td>Trade_PNBW7y45</td>\n",
       "      <td>54.720</td>\n",
       "    </tr>\n",
       "    <tr>\n",
       "      <th>39</th>\n",
       "      <td>2017-01-23 09:31:00</td>\n",
       "      <td>000001</td>\n",
       "      <td>9.22</td>\n",
       "      <td>1000.0</td>\n",
       "      <td>Order_d7zOPegF</td>\n",
       "      <td>Trade_y8hAqPfE</td>\n",
       "      <td>13.830</td>\n",
       "    </tr>\n",
       "    <tr>\n",
       "      <th>40</th>\n",
       "      <td>2017-01-23 09:31:00</td>\n",
       "      <td>000002</td>\n",
       "      <td>20.74</td>\n",
       "      <td>-1000.0</td>\n",
       "      <td>Order_FBhUSY1R</td>\n",
       "      <td>Trade_6dhFT1ib</td>\n",
       "      <td>31.110</td>\n",
       "    </tr>\n",
       "    <tr>\n",
       "      <th>41</th>\n",
       "      <td>2017-01-23 09:31:00</td>\n",
       "      <td>000004</td>\n",
       "      <td>37.56</td>\n",
       "      <td>-1000.0</td>\n",
       "      <td>Order_l1aOzjgy</td>\n",
       "      <td>Trade_o3xjFlPW</td>\n",
       "      <td>56.340</td>\n",
       "    </tr>\n",
       "    <tr>\n",
       "      <th>42</th>\n",
       "      <td>2017-01-24 09:31:00</td>\n",
       "      <td>000001</td>\n",
       "      <td>9.27</td>\n",
       "      <td>1000.0</td>\n",
       "      <td>Order_knrICGO0</td>\n",
       "      <td>Trade_c1IxZz4k</td>\n",
       "      <td>13.905</td>\n",
       "    </tr>\n",
       "    <tr>\n",
       "      <th>43</th>\n",
       "      <td>2017-01-24 09:31:00</td>\n",
       "      <td>000002</td>\n",
       "      <td>20.69</td>\n",
       "      <td>-1000.0</td>\n",
       "      <td>Order_vZSU16CH</td>\n",
       "      <td>Trade_cvjTohVH</td>\n",
       "      <td>31.035</td>\n",
       "    </tr>\n",
       "    <tr>\n",
       "      <th>44</th>\n",
       "      <td>2017-01-24 09:31:00</td>\n",
       "      <td>000004</td>\n",
       "      <td>38.63</td>\n",
       "      <td>1000.0</td>\n",
       "      <td>Order_m0vaxgJ9</td>\n",
       "      <td>Trade_dhZ781qy</td>\n",
       "      <td>57.945</td>\n",
       "    </tr>\n",
       "    <tr>\n",
       "      <th>45</th>\n",
       "      <td>2017-01-25 09:31:00</td>\n",
       "      <td>000001</td>\n",
       "      <td>9.26</td>\n",
       "      <td>-1000.0</td>\n",
       "      <td>Order_BCuRf0wg</td>\n",
       "      <td>Trade_0A7nU23T</td>\n",
       "      <td>13.890</td>\n",
       "    </tr>\n",
       "    <tr>\n",
       "      <th>46</th>\n",
       "      <td>2017-01-25 09:31:00</td>\n",
       "      <td>000002</td>\n",
       "      <td>20.61</td>\n",
       "      <td>1000.0</td>\n",
       "      <td>Order_JFP0rwkj</td>\n",
       "      <td>Trade_5R9jBgWx</td>\n",
       "      <td>30.915</td>\n",
       "    </tr>\n",
       "    <tr>\n",
       "      <th>47</th>\n",
       "      <td>2017-01-25 09:31:00</td>\n",
       "      <td>000004</td>\n",
       "      <td>38.25</td>\n",
       "      <td>1000.0</td>\n",
       "      <td>Order_rDNI4cFT</td>\n",
       "      <td>Trade_lXWg4wJj</td>\n",
       "      <td>57.375</td>\n",
       "    </tr>\n",
       "    <tr>\n",
       "      <th>48</th>\n",
       "      <td>2017-01-26 09:31:00</td>\n",
       "      <td>000001</td>\n",
       "      <td>9.33</td>\n",
       "      <td>1000.0</td>\n",
       "      <td>Order_C6INtGAy</td>\n",
       "      <td>Trade_fXzUwt8N</td>\n",
       "      <td>13.995</td>\n",
       "    </tr>\n",
       "    <tr>\n",
       "      <th>49</th>\n",
       "      <td>2017-01-26 09:31:00</td>\n",
       "      <td>000002</td>\n",
       "      <td>20.68</td>\n",
       "      <td>-1000.0</td>\n",
       "      <td>Order_T7IZhBbW</td>\n",
       "      <td>Trade_6XYrvqxU</td>\n",
       "      <td>31.020</td>\n",
       "    </tr>\n",
       "    <tr>\n",
       "      <th>50</th>\n",
       "      <td>2017-01-26 09:31:00</td>\n",
       "      <td>000004</td>\n",
       "      <td>38.29</td>\n",
       "      <td>-1000.0</td>\n",
       "      <td>Order_WKrcN0QE</td>\n",
       "      <td>Trade_NnkTfl12</td>\n",
       "      <td>57.435</td>\n",
       "    </tr>\n",
       "  </tbody>\n",
       "</table>\n",
       "</div>"
      ],
      "text/plain": [
       "               datetime    code  price  amount        order_id  \\\n",
       "0   2017-01-03 09:31:00  000001   9.16  1000.0  Order_t3ynV6vB   \n",
       "1   2017-01-03 09:31:00  000002  20.73  1000.0  Order_braSVeKA   \n",
       "2   2017-01-03 09:31:00  000004  44.45  1000.0  Order_C124PhsZ   \n",
       "3   2017-01-04 09:31:00  000002  20.85  1000.0  Order_8g0UGjDQ   \n",
       "4   2017-01-04 09:31:00  000004  44.70  1000.0  Order_vYJLuCnQ   \n",
       "5   2017-01-05 09:31:00  000001   9.17  1000.0  Order_8LQWCP2b   \n",
       "6   2017-01-06 09:31:00  000002  20.64  1000.0  Order_dPyHiRTv   \n",
       "7   2017-01-06 09:31:00  000004  43.96  1000.0  Order_jeVmYhoQ   \n",
       "8   2017-01-09 09:31:00  000001   9.15 -1000.0  Order_dHTN10cY   \n",
       "9   2017-01-09 09:31:00  000002  20.66 -1000.0  Order_NZeJ68Hy   \n",
       "10  2017-01-09 09:31:00  000004  43.01 -1000.0  Order_H1N2PX67   \n",
       "11  2017-01-10 09:31:00  000001   9.15 -1000.0  Order_V17SDEi5   \n",
       "12  2017-01-10 09:31:00  000002  20.58  1000.0  Order_x3ykpEwX   \n",
       "13  2017-01-10 09:31:00  000004  43.25  1000.0  Order_zhDQw7d3   \n",
       "14  2017-01-10 09:31:00  000007  24.79  1000.0  Order_qFKbLnW0   \n",
       "15  2017-01-11 09:31:00  000001   9.14  1000.0  Order_12J38Vlw   \n",
       "16  2017-01-11 09:31:00  000002  20.40  1000.0  Order_kBd3e1iF   \n",
       "17  2017-01-11 09:31:00  000004  42.45  1000.0  Order_6Imcwb23   \n",
       "18  2017-01-11 09:31:00  000007  24.85  1000.0  Order_9kU6YWij   \n",
       "19  2017-01-12 09:31:00  000001   9.15  1000.0  Order_d9je3k7i   \n",
       "20  2017-01-12 09:31:00  000004  42.05 -1000.0  Order_HLFxkYcJ   \n",
       "21  2017-01-12 09:31:00  000007  24.61  1000.0  Order_q3OZN0jg   \n",
       "22  2017-01-13 09:31:00  000001   9.16 -1000.0  Order_KW40qstA   \n",
       "23  2017-01-13 09:31:00  000002  21.81 -1000.0  Order_BngMZyx9   \n",
       "24  2017-01-13 09:31:00  000004  41.00 -1000.0  Order_EMCIJ0Np   \n",
       "25  2017-01-16 09:31:00  000002  21.00  1000.0  Order_5TJwiYMQ   \n",
       "26  2017-01-16 09:31:00  000004  38.26  1000.0  Order_cdLzWyT4   \n",
       "27  2017-01-17 09:31:00  000001   9.15  1000.0  Order_pR9gvJHx   \n",
       "28  2017-01-17 09:31:00  000002  20.80 -1000.0  Order_Hb14fNMQ   \n",
       "29  2017-01-17 09:31:00  000004  37.37 -1000.0  Order_eNVLOiUH   \n",
       "30  2017-01-18 09:31:00  000001   9.17  1000.0  Order_dZc7DpmE   \n",
       "31  2017-01-18 09:31:00  000002  20.92 -1000.0  Order_mnFckbO5   \n",
       "32  2017-01-18 09:31:00  000004  37.15  1000.0  Order_ACNrVR7o   \n",
       "33  2017-01-19 09:31:00  000001   9.18 -1000.0  Order_ARKqokz0   \n",
       "34  2017-01-19 09:31:00  000002  20.60  1000.0  Order_KoN0Xi5h   \n",
       "35  2017-01-19 09:31:00  000004  35.69 -1000.0  Order_6M4VSkD7   \n",
       "36  2017-01-20 09:31:00  000001   9.22 -1000.0  Order_KPp9BCE0   \n",
       "37  2017-01-20 09:31:00  000002  20.68 -1000.0  Order_57go34Ez   \n",
       "38  2017-01-20 09:31:00  000004  36.48  1000.0  Order_Cnr7ZX92   \n",
       "39  2017-01-23 09:31:00  000001   9.22  1000.0  Order_d7zOPegF   \n",
       "40  2017-01-23 09:31:00  000002  20.74 -1000.0  Order_FBhUSY1R   \n",
       "41  2017-01-23 09:31:00  000004  37.56 -1000.0  Order_l1aOzjgy   \n",
       "42  2017-01-24 09:31:00  000001   9.27  1000.0  Order_knrICGO0   \n",
       "43  2017-01-24 09:31:00  000002  20.69 -1000.0  Order_vZSU16CH   \n",
       "44  2017-01-24 09:31:00  000004  38.63  1000.0  Order_m0vaxgJ9   \n",
       "45  2017-01-25 09:31:00  000001   9.26 -1000.0  Order_BCuRf0wg   \n",
       "46  2017-01-25 09:31:00  000002  20.61  1000.0  Order_JFP0rwkj   \n",
       "47  2017-01-25 09:31:00  000004  38.25  1000.0  Order_rDNI4cFT   \n",
       "48  2017-01-26 09:31:00  000001   9.33  1000.0  Order_C6INtGAy   \n",
       "49  2017-01-26 09:31:00  000002  20.68 -1000.0  Order_T7IZhBbW   \n",
       "50  2017-01-26 09:31:00  000004  38.29 -1000.0  Order_WKrcN0QE   \n",
       "\n",
       "          trade_id  commission_fee  \n",
       "0   Trade_yWxiImZJ          13.740  \n",
       "1   Trade_ZG8EnP4b          31.095  \n",
       "2   Trade_qDPVeGvX          66.675  \n",
       "3   Trade_QEeS78mr          31.275  \n",
       "4   Trade_u0ratNUF          67.050  \n",
       "5   Trade_t8RPsJFv          13.755  \n",
       "6   Trade_5mDyjKP7          30.960  \n",
       "7   Trade_Ud9WTr2V          65.940  \n",
       "8   Trade_zt4wOBm0          13.725  \n",
       "9   Trade_sYAHd75i          30.990  \n",
       "10  Trade_hslCMG6f          64.515  \n",
       "11  Trade_daICNsYg          13.725  \n",
       "12  Trade_a7U2G36s          30.870  \n",
       "13  Trade_94hXcG1A          64.875  \n",
       "14  Trade_BFHtabe9          37.185  \n",
       "15  Trade_RdSlHFxC          13.710  \n",
       "16  Trade_VOMqf1a4          30.600  \n",
       "17  Trade_gKujeCc0          63.675  \n",
       "18  Trade_4qJFUA6y          37.275  \n",
       "19  Trade_dXN9ZFmt          13.725  \n",
       "20  Trade_cepozdbr          63.075  \n",
       "21  Trade_D8ThHx5B          36.915  \n",
       "22  Trade_RtoO8Das          13.740  \n",
       "23  Trade_OhAkzb0P          32.715  \n",
       "24  Trade_wT6amIdf          61.500  \n",
       "25  Trade_NYHSXGIf          31.500  \n",
       "26  Trade_Jc9W8lZ6          57.390  \n",
       "27  Trade_fk15SGjy          13.725  \n",
       "28  Trade_BvTZ1Mqf          31.200  \n",
       "29  Trade_k7ZHisNI          56.055  \n",
       "30  Trade_jGrs1IxQ          13.755  \n",
       "31  Trade_EW0qKtiy          31.380  \n",
       "32  Trade_dlD8hvcB          55.725  \n",
       "33  Trade_YoZ3xFnE          13.770  \n",
       "34  Trade_ZOwTWLsP          30.900  \n",
       "35  Trade_9JXeMYp8          53.535  \n",
       "36  Trade_Vq5ODe0I          13.830  \n",
       "37  Trade_mux4vfe2          31.020  \n",
       "38  Trade_PNBW7y45          54.720  \n",
       "39  Trade_y8hAqPfE          13.830  \n",
       "40  Trade_6dhFT1ib          31.110  \n",
       "41  Trade_o3xjFlPW          56.340  \n",
       "42  Trade_c1IxZz4k          13.905  \n",
       "43  Trade_cvjTohVH          31.035  \n",
       "44  Trade_dhZ781qy          57.945  \n",
       "45  Trade_0A7nU23T          13.890  \n",
       "46  Trade_5R9jBgWx          30.915  \n",
       "47  Trade_lXWg4wJj          57.375  \n",
       "48  Trade_fXzUwt8N          13.995  \n",
       "49  Trade_6XYrvqxU          31.020  \n",
       "50  Trade_NnkTfl12          57.435  "
      ]
     },
     "execution_count": 2,
     "metadata": {},
     "output_type": "execute_result"
    }
   ],
   "source": [
    "user.get_account(a_1).history_table"
   ]
  },
  {
   "cell_type": "code",
   "execution_count": 3,
   "metadata": {
    "collapsed": true
   },
   "outputs": [],
   "source": [
    "r=QA.QA_Risk(user.get_account(a_1))"
   ]
  },
  {
   "cell_type": "code",
   "execution_count": 4,
   "metadata": {},
   "outputs": [
    {
     "data": {
      "text/plain": [
       "code\n",
       "000001    3000.0\n",
       "000002       0.0\n",
       "000004    3000.0\n",
       "000007    3000.0\n",
       "Name: amount, dtype: float64"
      ]
     },
     "execution_count": 4,
     "metadata": {},
     "output_type": "execute_result"
    }
   ],
   "source": [
    "user.get_account(a_1).hold"
   ]
  },
  {
   "cell_type": "code",
   "execution_count": 5,
   "metadata": {},
   "outputs": [
    {
     "data": {
      "text/html": [
       "<div>\n",
       "<style>\n",
       "    .dataframe thead tr:only-child th {\n",
       "        text-align: right;\n",
       "    }\n",
       "\n",
       "    .dataframe thead th {\n",
       "        text-align: left;\n",
       "    }\n",
       "\n",
       "    .dataframe tbody tr th {\n",
       "        vertical-align: top;\n",
       "    }\n",
       "</style>\n",
       "<table border=\"1\" class=\"dataframe\">\n",
       "  <thead>\n",
       "    <tr style=\"text-align: right;\">\n",
       "      <th>code</th>\n",
       "      <th>000001</th>\n",
       "      <th>000002</th>\n",
       "      <th>000004</th>\n",
       "      <th>000007</th>\n",
       "    </tr>\n",
       "    <tr>\n",
       "      <th>datetime</th>\n",
       "      <th></th>\n",
       "      <th></th>\n",
       "      <th></th>\n",
       "      <th></th>\n",
       "    </tr>\n",
       "  </thead>\n",
       "  <tbody>\n",
       "    <tr>\n",
       "      <th>2017-01-03 09:31:00</th>\n",
       "      <td>1000.0</td>\n",
       "      <td>1000.0</td>\n",
       "      <td>1000.0</td>\n",
       "      <td>0.0</td>\n",
       "    </tr>\n",
       "    <tr>\n",
       "      <th>2017-01-04 09:31:00</th>\n",
       "      <td>0.0</td>\n",
       "      <td>1000.0</td>\n",
       "      <td>1000.0</td>\n",
       "      <td>0.0</td>\n",
       "    </tr>\n",
       "    <tr>\n",
       "      <th>2017-01-05 09:31:00</th>\n",
       "      <td>1000.0</td>\n",
       "      <td>0.0</td>\n",
       "      <td>0.0</td>\n",
       "      <td>0.0</td>\n",
       "    </tr>\n",
       "    <tr>\n",
       "      <th>2017-01-06 09:31:00</th>\n",
       "      <td>0.0</td>\n",
       "      <td>1000.0</td>\n",
       "      <td>1000.0</td>\n",
       "      <td>0.0</td>\n",
       "    </tr>\n",
       "    <tr>\n",
       "      <th>2017-01-09 09:31:00</th>\n",
       "      <td>-1000.0</td>\n",
       "      <td>-1000.0</td>\n",
       "      <td>-1000.0</td>\n",
       "      <td>0.0</td>\n",
       "    </tr>\n",
       "    <tr>\n",
       "      <th>2017-01-10 09:31:00</th>\n",
       "      <td>-1000.0</td>\n",
       "      <td>1000.0</td>\n",
       "      <td>1000.0</td>\n",
       "      <td>1000.0</td>\n",
       "    </tr>\n",
       "    <tr>\n",
       "      <th>2017-01-11 09:31:00</th>\n",
       "      <td>1000.0</td>\n",
       "      <td>1000.0</td>\n",
       "      <td>1000.0</td>\n",
       "      <td>1000.0</td>\n",
       "    </tr>\n",
       "    <tr>\n",
       "      <th>2017-01-12 09:31:00</th>\n",
       "      <td>1000.0</td>\n",
       "      <td>0.0</td>\n",
       "      <td>-1000.0</td>\n",
       "      <td>1000.0</td>\n",
       "    </tr>\n",
       "    <tr>\n",
       "      <th>2017-01-13 09:31:00</th>\n",
       "      <td>-1000.0</td>\n",
       "      <td>-1000.0</td>\n",
       "      <td>-1000.0</td>\n",
       "      <td>0.0</td>\n",
       "    </tr>\n",
       "    <tr>\n",
       "      <th>2017-01-16 09:31:00</th>\n",
       "      <td>0.0</td>\n",
       "      <td>1000.0</td>\n",
       "      <td>1000.0</td>\n",
       "      <td>0.0</td>\n",
       "    </tr>\n",
       "    <tr>\n",
       "      <th>2017-01-17 09:31:00</th>\n",
       "      <td>1000.0</td>\n",
       "      <td>-1000.0</td>\n",
       "      <td>-1000.0</td>\n",
       "      <td>0.0</td>\n",
       "    </tr>\n",
       "    <tr>\n",
       "      <th>2017-01-18 09:31:00</th>\n",
       "      <td>1000.0</td>\n",
       "      <td>-1000.0</td>\n",
       "      <td>1000.0</td>\n",
       "      <td>0.0</td>\n",
       "    </tr>\n",
       "    <tr>\n",
       "      <th>2017-01-19 09:31:00</th>\n",
       "      <td>-1000.0</td>\n",
       "      <td>1000.0</td>\n",
       "      <td>-1000.0</td>\n",
       "      <td>0.0</td>\n",
       "    </tr>\n",
       "    <tr>\n",
       "      <th>2017-01-20 09:31:00</th>\n",
       "      <td>-1000.0</td>\n",
       "      <td>-1000.0</td>\n",
       "      <td>1000.0</td>\n",
       "      <td>0.0</td>\n",
       "    </tr>\n",
       "    <tr>\n",
       "      <th>2017-01-23 09:31:00</th>\n",
       "      <td>1000.0</td>\n",
       "      <td>-1000.0</td>\n",
       "      <td>-1000.0</td>\n",
       "      <td>0.0</td>\n",
       "    </tr>\n",
       "    <tr>\n",
       "      <th>2017-01-24 09:31:00</th>\n",
       "      <td>1000.0</td>\n",
       "      <td>-1000.0</td>\n",
       "      <td>1000.0</td>\n",
       "      <td>0.0</td>\n",
       "    </tr>\n",
       "    <tr>\n",
       "      <th>2017-01-25 09:31:00</th>\n",
       "      <td>-1000.0</td>\n",
       "      <td>1000.0</td>\n",
       "      <td>1000.0</td>\n",
       "      <td>0.0</td>\n",
       "    </tr>\n",
       "    <tr>\n",
       "      <th>2017-01-26 09:31:00</th>\n",
       "      <td>1000.0</td>\n",
       "      <td>-1000.0</td>\n",
       "      <td>-1000.0</td>\n",
       "      <td>0.0</td>\n",
       "    </tr>\n",
       "  </tbody>\n",
       "</table>\n",
       "</div>"
      ],
      "text/plain": [
       "code                 000001  000002  000004  000007\n",
       "datetime                                           \n",
       "2017-01-03 09:31:00  1000.0  1000.0  1000.0     0.0\n",
       "2017-01-04 09:31:00     0.0  1000.0  1000.0     0.0\n",
       "2017-01-05 09:31:00  1000.0     0.0     0.0     0.0\n",
       "2017-01-06 09:31:00     0.0  1000.0  1000.0     0.0\n",
       "2017-01-09 09:31:00 -1000.0 -1000.0 -1000.0     0.0\n",
       "2017-01-10 09:31:00 -1000.0  1000.0  1000.0  1000.0\n",
       "2017-01-11 09:31:00  1000.0  1000.0  1000.0  1000.0\n",
       "2017-01-12 09:31:00  1000.0     0.0 -1000.0  1000.0\n",
       "2017-01-13 09:31:00 -1000.0 -1000.0 -1000.0     0.0\n",
       "2017-01-16 09:31:00     0.0  1000.0  1000.0     0.0\n",
       "2017-01-17 09:31:00  1000.0 -1000.0 -1000.0     0.0\n",
       "2017-01-18 09:31:00  1000.0 -1000.0  1000.0     0.0\n",
       "2017-01-19 09:31:00 -1000.0  1000.0 -1000.0     0.0\n",
       "2017-01-20 09:31:00 -1000.0 -1000.0  1000.0     0.0\n",
       "2017-01-23 09:31:00  1000.0 -1000.0 -1000.0     0.0\n",
       "2017-01-24 09:31:00  1000.0 -1000.0  1000.0     0.0\n",
       "2017-01-25 09:31:00 -1000.0  1000.0  1000.0     0.0\n",
       "2017-01-26 09:31:00  1000.0 -1000.0 -1000.0     0.0"
      ]
     },
     "execution_count": 5,
     "metadata": {},
     "output_type": "execute_result"
    }
   ],
   "source": [
    "user.get_account(a_1).trade"
   ]
  },
  {
   "cell_type": "code",
   "execution_count": 6,
   "metadata": {},
   "outputs": [
    {
     "data": {
      "text/html": [
       "<div>\n",
       "<style>\n",
       "    .dataframe thead tr:only-child th {\n",
       "        text-align: right;\n",
       "    }\n",
       "\n",
       "    .dataframe thead th {\n",
       "        text-align: left;\n",
       "    }\n",
       "\n",
       "    .dataframe tbody tr th {\n",
       "        vertical-align: top;\n",
       "    }\n",
       "</style>\n",
       "<table border=\"1\" class=\"dataframe\">\n",
       "  <thead>\n",
       "    <tr style=\"text-align: right;\">\n",
       "      <th>code</th>\n",
       "      <th>000001</th>\n",
       "      <th>000002</th>\n",
       "      <th>000004</th>\n",
       "      <th>000007</th>\n",
       "    </tr>\n",
       "    <tr>\n",
       "      <th>datetime</th>\n",
       "      <th></th>\n",
       "      <th></th>\n",
       "      <th></th>\n",
       "      <th></th>\n",
       "    </tr>\n",
       "  </thead>\n",
       "  <tbody>\n",
       "    <tr>\n",
       "      <th>2017-01-03 09:31:00</th>\n",
       "      <td>1000.0</td>\n",
       "      <td>1000.0</td>\n",
       "      <td>1000.0</td>\n",
       "      <td>0.0</td>\n",
       "    </tr>\n",
       "    <tr>\n",
       "      <th>2017-01-04 09:31:00</th>\n",
       "      <td>1000.0</td>\n",
       "      <td>2000.0</td>\n",
       "      <td>2000.0</td>\n",
       "      <td>0.0</td>\n",
       "    </tr>\n",
       "    <tr>\n",
       "      <th>2017-01-05 09:31:00</th>\n",
       "      <td>2000.0</td>\n",
       "      <td>2000.0</td>\n",
       "      <td>2000.0</td>\n",
       "      <td>0.0</td>\n",
       "    </tr>\n",
       "    <tr>\n",
       "      <th>2017-01-06 09:31:00</th>\n",
       "      <td>2000.0</td>\n",
       "      <td>3000.0</td>\n",
       "      <td>3000.0</td>\n",
       "      <td>0.0</td>\n",
       "    </tr>\n",
       "    <tr>\n",
       "      <th>2017-01-09 09:31:00</th>\n",
       "      <td>1000.0</td>\n",
       "      <td>2000.0</td>\n",
       "      <td>2000.0</td>\n",
       "      <td>0.0</td>\n",
       "    </tr>\n",
       "    <tr>\n",
       "      <th>2017-01-10 09:31:00</th>\n",
       "      <td>0.0</td>\n",
       "      <td>3000.0</td>\n",
       "      <td>3000.0</td>\n",
       "      <td>1000.0</td>\n",
       "    </tr>\n",
       "    <tr>\n",
       "      <th>2017-01-11 09:31:00</th>\n",
       "      <td>1000.0</td>\n",
       "      <td>4000.0</td>\n",
       "      <td>4000.0</td>\n",
       "      <td>2000.0</td>\n",
       "    </tr>\n",
       "    <tr>\n",
       "      <th>2017-01-12 09:31:00</th>\n",
       "      <td>2000.0</td>\n",
       "      <td>4000.0</td>\n",
       "      <td>3000.0</td>\n",
       "      <td>3000.0</td>\n",
       "    </tr>\n",
       "    <tr>\n",
       "      <th>2017-01-13 09:31:00</th>\n",
       "      <td>1000.0</td>\n",
       "      <td>3000.0</td>\n",
       "      <td>2000.0</td>\n",
       "      <td>3000.0</td>\n",
       "    </tr>\n",
       "    <tr>\n",
       "      <th>2017-01-16 09:31:00</th>\n",
       "      <td>1000.0</td>\n",
       "      <td>4000.0</td>\n",
       "      <td>3000.0</td>\n",
       "      <td>3000.0</td>\n",
       "    </tr>\n",
       "    <tr>\n",
       "      <th>2017-01-17 09:31:00</th>\n",
       "      <td>2000.0</td>\n",
       "      <td>3000.0</td>\n",
       "      <td>2000.0</td>\n",
       "      <td>3000.0</td>\n",
       "    </tr>\n",
       "    <tr>\n",
       "      <th>2017-01-18 09:31:00</th>\n",
       "      <td>3000.0</td>\n",
       "      <td>2000.0</td>\n",
       "      <td>3000.0</td>\n",
       "      <td>3000.0</td>\n",
       "    </tr>\n",
       "    <tr>\n",
       "      <th>2017-01-19 09:31:00</th>\n",
       "      <td>2000.0</td>\n",
       "      <td>3000.0</td>\n",
       "      <td>2000.0</td>\n",
       "      <td>3000.0</td>\n",
       "    </tr>\n",
       "    <tr>\n",
       "      <th>2017-01-20 09:31:00</th>\n",
       "      <td>1000.0</td>\n",
       "      <td>2000.0</td>\n",
       "      <td>3000.0</td>\n",
       "      <td>3000.0</td>\n",
       "    </tr>\n",
       "    <tr>\n",
       "      <th>2017-01-23 09:31:00</th>\n",
       "      <td>2000.0</td>\n",
       "      <td>1000.0</td>\n",
       "      <td>2000.0</td>\n",
       "      <td>3000.0</td>\n",
       "    </tr>\n",
       "    <tr>\n",
       "      <th>2017-01-24 09:31:00</th>\n",
       "      <td>3000.0</td>\n",
       "      <td>0.0</td>\n",
       "      <td>3000.0</td>\n",
       "      <td>3000.0</td>\n",
       "    </tr>\n",
       "    <tr>\n",
       "      <th>2017-01-25 09:31:00</th>\n",
       "      <td>2000.0</td>\n",
       "      <td>1000.0</td>\n",
       "      <td>4000.0</td>\n",
       "      <td>3000.0</td>\n",
       "    </tr>\n",
       "    <tr>\n",
       "      <th>2017-01-26 09:31:00</th>\n",
       "      <td>3000.0</td>\n",
       "      <td>0.0</td>\n",
       "      <td>3000.0</td>\n",
       "      <td>3000.0</td>\n",
       "    </tr>\n",
       "  </tbody>\n",
       "</table>\n",
       "</div>"
      ],
      "text/plain": [
       "code                 000001  000002  000004  000007\n",
       "datetime                                           \n",
       "2017-01-03 09:31:00  1000.0  1000.0  1000.0     0.0\n",
       "2017-01-04 09:31:00  1000.0  2000.0  2000.0     0.0\n",
       "2017-01-05 09:31:00  2000.0  2000.0  2000.0     0.0\n",
       "2017-01-06 09:31:00  2000.0  3000.0  3000.0     0.0\n",
       "2017-01-09 09:31:00  1000.0  2000.0  2000.0     0.0\n",
       "2017-01-10 09:31:00     0.0  3000.0  3000.0  1000.0\n",
       "2017-01-11 09:31:00  1000.0  4000.0  4000.0  2000.0\n",
       "2017-01-12 09:31:00  2000.0  4000.0  3000.0  3000.0\n",
       "2017-01-13 09:31:00  1000.0  3000.0  2000.0  3000.0\n",
       "2017-01-16 09:31:00  1000.0  4000.0  3000.0  3000.0\n",
       "2017-01-17 09:31:00  2000.0  3000.0  2000.0  3000.0\n",
       "2017-01-18 09:31:00  3000.0  2000.0  3000.0  3000.0\n",
       "2017-01-19 09:31:00  2000.0  3000.0  2000.0  3000.0\n",
       "2017-01-20 09:31:00  1000.0  2000.0  3000.0  3000.0\n",
       "2017-01-23 09:31:00  2000.0  1000.0  2000.0  3000.0\n",
       "2017-01-24 09:31:00  3000.0     0.0  3000.0  3000.0\n",
       "2017-01-25 09:31:00  2000.0  1000.0  4000.0  3000.0\n",
       "2017-01-26 09:31:00  3000.0     0.0  3000.0  3000.0"
      ]
     },
     "execution_count": 6,
     "metadata": {},
     "output_type": "execute_result"
    }
   ],
   "source": [
    "user.get_account(a_1).daily_balance"
   ]
  },
  {
   "cell_type": "code",
   "execution_count": 7,
   "metadata": {
    "collapsed": true
   },
   "outputs": [],
   "source": [
    "l=user.get_account(a_1).trade"
   ]
  },
  {
   "cell_type": "code",
   "execution_count": 8,
   "metadata": {},
   "outputs": [
    {
     "data": {
      "text/plain": [
       "Index(['2017-01-03 09:31:00', '2017-01-04 09:31:00', '2017-01-05 09:31:00',\n",
       "       '2017-01-06 09:31:00', '2017-01-09 09:31:00', '2017-01-10 09:31:00',\n",
       "       '2017-01-11 09:31:00', '2017-01-12 09:31:00', '2017-01-13 09:31:00',\n",
       "       '2017-01-16 09:31:00', '2017-01-17 09:31:00', '2017-01-18 09:31:00',\n",
       "       '2017-01-19 09:31:00', '2017-01-20 09:31:00', '2017-01-23 09:31:00',\n",
       "       '2017-01-24 09:31:00', '2017-01-25 09:31:00', '2017-01-26 09:31:00'],\n",
       "      dtype='object', name='datetime')"
      ]
     },
     "execution_count": 8,
     "metadata": {},
     "output_type": "execute_result"
    }
   ],
   "source": [
    "l.index"
   ]
  }
 ],
 "metadata": {
  "kernelspec": {
   "display_name": "Python 3",
   "language": "python",
   "name": "python3"
  },
  "language_info": {
   "codemirror_mode": {
    "name": "ipython",
    "version": 3
   },
   "file_extension": ".py",
   "mimetype": "text/x-python",
   "name": "python",
   "nbconvert_exporter": "python",
   "pygments_lexer": "ipython3",
   "version": "3.6.3"
  }
 },
 "nbformat": 4,
 "nbformat_minor": 2
}
