{
 "cells": [
  {
   "cell_type": "code",
   "execution_count": 1,
   "metadata": {},
   "outputs": [
    {
     "name": "stderr",
     "output_type": "stream",
     "text": [
      "QUANTAXIS>> start QUANTAXIS\n",
      "QUANTAXIS>> Selecting the Best Server IP of TDX\n",
      "QUANTAXIS>> === The BEST SERVER ===\n",
      " stock_ip 180.153.39.51 future_ip 61.152.107.141\n",
      "QUANTAXIS>> Welcome to QUANTAXIS, the Version is remake-version\n",
      "QUANTAXIS>>  \n",
      " ```````````````````````````````````````````````````````````````````````````````````````````````````````````````````````` \n",
      "  ``########`````##````````##``````````##`````````####````````##```##########````````#``````##``````###```##`````######`` \n",
      "  `##``````## ```##````````##`````````####````````##`##```````##```````##```````````###``````##````##`````##```##`````##` \n",
      "  ##````````##```##````````##````````##`##````````##``##``````##```````##``````````####```````#```##``````##```##``````## \n",
      "  ##````````##```##````````##```````##```##```````##```##`````##```````##`````````##`##```````##`##```````##````##``````` \n",
      "  ##````````##```##````````##``````##`````##``````##````##````##```````##````````##``###```````###````````##`````##`````` \n",
      "  ##````````##```##````````##``````##``````##`````##`````##```##```````##```````##````##```````###````````##``````###```` \n",
      "  ##````````##```##````````##`````##````````##````##``````##``##```````##``````##``````##`````##`##```````##````````##``` \n",
      "  ##````````##```##````````##````#############````##```````##`##```````##`````###########`````##``##``````##`````````##`` \n",
      "  ###```````##```##````````##```##```````````##```##```````##`##```````##````##`````````##```##```##``````##```##`````##` \n",
      "  `##``````###````##``````###``##`````````````##``##````````####```````##```##``````````##``###````##`````##````##`````## \n",
      "  ``#########``````########```##``````````````###`##``````````##```````##``##````````````##`##``````##````##`````##````## \n",
      "  ````````#####`````````````````````````````````````````````````````````````````````````````````````````````````````####` \n",
      "  ``````````````````````````````````````````````````````````````````````````````````````````````````````````````````````` \n",
      "  ``````````````````````````Copyright``yutiansut``2017``````QUANTITATIVE FINANCIAL FRAMEWORK````````````````````````````` \n",
      "  ``````````````````````````````````````````````````````````````````````````````````````````````````````````````````````` \n",
      " ```````````````````````````````````````````````````````````````````````````````````````````````````````````````````````` \n",
      " ```````````````````````````````````````````````````````````````````````````````````````````````````````````````````````` \n",
      " \n"
     ]
    }
   ],
   "source": [
    "import QUANTAXIS as QA\n",
    "import threading\n",
    "import pandas as pd"
   ]
  },
  {
   "cell_type": "code",
   "execution_count": 2,
   "metadata": {},
   "outputs": [],
   "source": [
    "user = QA.QA_Portfolio()\n",
    "# 创建两个account\n",
    "#这里是创建一个资产组合,然后在组合里面创建两个account  你可以想象成股票里面的两个策略账户\n",
    "#然后返回的是这个账户的id\n",
    "a_1 = user.new_account()\n",
    "a_2 = user.new_account()\n"
   ]
  },
  {
   "cell_type": "code",
   "execution_count": null,
   "metadata": {},
   "outputs": [],
   "source": []
  },
  {
   "cell_type": "code",
   "execution_count": 3,
   "metadata": {},
   "outputs": [
    {
     "data": {
      "text/plain": [
       "'Acc_2nSHsdLE'"
      ]
     },
     "execution_count": 3,
     "metadata": {},
     "output_type": "execute_result"
    }
   ],
   "source": [
    "a_1"
   ]
  },
  {
   "cell_type": "code",
   "execution_count": 4,
   "metadata": {},
   "outputs": [
    {
     "name": "stdout",
     "output_type": "stream",
     "text": [
      "< QA_MARKET with ['backtest'] Broker >\n"
     ]
    }
   ],
   "source": [
    "\"\"\"\n",
    "然后这里 是创建一个交易前置  你可以理解成 创建了一个无界面的通达信客户端\n",
    "然后start()开启这个客户端\n",
    "连接到backtest的broker上 这个broker可以更换\n",
    "\"\"\"\n",
    "# 创建一个交易前置\n",
    "market = QA.QA_Market()\n",
    "# 交易前置连接broker \n",
    "market.start()\n",
    "market.connect(QA.RUNNING_ENVIRONMENT.BACKETEST)\n",
    "\n",
    "# 打印market\n",
    "print(market)\n",
    "\n"
   ]
  },
  {
   "cell_type": "code",
   "execution_count": 5,
   "metadata": {},
   "outputs": [
    {
     "data": {
      "text/plain": [
       "[<_MainThread(MainThread, started 140207925802752)>,\n",
       " <Thread(Thread-2, started daemon 140207779256064)>,\n",
       " <Heartbeat(Thread-3, started daemon 140207770863360)>,\n",
       " <HistorySavingThread(IPythonHistorySavingThread, started 140207745423104)>,\n",
       " <ParentPollerUnix(Thread-1, started daemon 140207395436288)>,\n",
       " <Thread(pymongo_server_monitor_thread, started daemon 140207026829056)>,\n",
       " <Thread(pymongo_kill_cursors_thread, started daemon 140207018436352)>,\n",
       " <Thread(pymongo_server_monitor_thread, started daemon 140207010043648)>,\n",
       " <Thread(pymongo_kill_cursors_thread, started daemon 140207001650944)>,\n",
       " <Thread(pymongo_server_monitor_thread, started daemon 140206791456512)>,\n",
       " <Thread(pymongo_kill_cursors_thread, started daemon 140206783063808)>,\n",
       " <Thread(pymongo_server_monitor_thread, started daemon 140206742927104)>,\n",
       " <Thread(pymongo_kill_cursors_thread, started daemon 140206734534400)>,\n",
       " <Thread(pymongo_server_monitor_thread, started daemon 140206455912192)>,\n",
       " <Thread(pymongo_kill_cursors_thread, started daemon 140206447519488)>,\n",
       " <Thread(pymongo_server_monitor_thread, started daemon 140206439126784)>,\n",
       " <Thread(pymongo_kill_cursors_thread, started daemon 140206430734080)>,\n",
       " <Thread(pymongo_server_monitor_thread, started daemon 140206422341376)>,\n",
       " <Thread(pymongo_kill_cursors_thread, started daemon 140206413948672)>,\n",
       " <Thread(pymongo_server_monitor_thread, started daemon 140206405555968)>,\n",
       " <Thread(pymongo_kill_cursors_thread, started daemon 140205851932416)>,\n",
       " <Thread(pymongo_server_monitor_thread, started daemon 140205843539712)>,\n",
       " <Thread(pymongo_kill_cursors_thread, started daemon 140205835147008)>,\n",
       " <Thread(pymongo_server_monitor_thread, started daemon 140205826754304)>,\n",
       " <Thread(pymongo_kill_cursors_thread, started daemon 140205818361600)>,\n",
       " <Thread(pymongo_server_monitor_thread, started daemon 140205809968896)>,\n",
       " <Thread(pymongo_kill_cursors_thread, started daemon 140205801576192)>,\n",
       " <Thread(pymongo_server_monitor_thread, started daemon 140205315061504)>,\n",
       " <Thread(pymongo_kill_cursors_thread, started daemon 140205306668800)>,\n",
       " <Thread(pymongo_server_monitor_thread, started daemon 140205298276096)>,\n",
       " <Thread(pymongo_kill_cursors_thread, started daemon 140205289883392)>,\n",
       " <Thread(pymongo_server_monitor_thread, started daemon 140205281490688)>,\n",
       " <Thread(pymongo_kill_cursors_thread, started daemon 140205273097984)>,\n",
       " <Thread(pymongo_server_monitor_thread, started daemon 140205264705280)>,\n",
       " <Thread(pymongo_kill_cursors_thread, started daemon 140205046626048)>,\n",
       " <Thread(pymongo_server_monitor_thread, started daemon 140205038233344)>,\n",
       " <Thread(pymongo_kill_cursors_thread, started daemon 140205029840640)>,\n",
       " <Thread(pymongo_server_monitor_thread, started daemon 140205021447936)>,\n",
       " <Thread(pymongo_kill_cursors_thread, started daemon 140205013055232)>,\n",
       " <Thread(pymongo_server_monitor_thread, started daemon 140205004662528)>,\n",
       " <Thread(pymongo_kill_cursors_thread, started daemon 140204996269824)>,\n",
       " <Thread(pymongo_server_monitor_thread, started daemon 140204987877120)>,\n",
       " <Thread(pymongo_kill_cursors_thread, started daemon 140204979484416)>,\n",
       " <Thread(pymongo_server_monitor_thread, started daemon 140204971091712)>,\n",
       " <Thread(pymongo_kill_cursors_thread, started daemon 140204962699008)>,\n",
       " <Thread(pymongo_server_monitor_thread, started daemon 140204954306304)>,\n",
       " <Thread(pymongo_kill_cursors_thread, started daemon 140204945913600)>,\n",
       " <Thread(pymongo_server_monitor_thread, started daemon 140204937520896)>,\n",
       " <Thread(pymongo_kill_cursors_thread, started daemon 140204929128192)>,\n",
       " <Thread(pymongo_server_monitor_thread, started daemon 140204920735488)>,\n",
       " <Thread(pymongo_kill_cursors_thread, started daemon 140204912342784)>,\n",
       " <Thread(pymongo_server_monitor_thread, started daemon 140204903950080)>,\n",
       " <Thread(pymongo_kill_cursors_thread, started daemon 140204895557376)>,\n",
       " <Thread(pymongo_server_monitor_thread, started daemon 140204887164672)>,\n",
       " <Thread(pymongo_kill_cursors_thread, started daemon 140204878771968)>,\n",
       " <Thread(pymongo_server_monitor_thread, started daemon 140204870379264)>,\n",
       " <Thread(pymongo_kill_cursors_thread, started daemon 140204861986560)>,\n",
       " <Thread(pymongo_server_monitor_thread, started daemon 140204853593856)>,\n",
       " <Thread(pymongo_kill_cursors_thread, started daemon 140204845201152)>,\n",
       " <Thread(pymongo_server_monitor_thread, started daemon 140204836808448)>,\n",
       " <Thread(pymongo_kill_cursors_thread, started daemon 140204828415744)>,\n",
       " <Thread(pymongo_server_monitor_thread, started daemon 140204820023040)>,\n",
       " <Thread(pymongo_kill_cursors_thread, started daemon 140204811630336)>,\n",
       " <Thread(pymongo_server_monitor_thread, started daemon 140204803237632)>,\n",
       " <Thread(pymongo_kill_cursors_thread, started daemon 140204794844928)>,\n",
       " <Thread(pymongo_server_monitor_thread, started daemon 140204786452224)>,\n",
       " <Thread(pymongo_kill_cursors_thread, started daemon 140204778059520)>,\n",
       " <Thread(pymongo_server_monitor_thread, started daemon 140204769666816)>,\n",
       " <Thread(pymongo_kill_cursors_thread, started daemon 140204761274112)>,\n",
       " <Thread(pymongo_server_monitor_thread, started daemon 140204752881408)>,\n",
       " <Thread(pymongo_kill_cursors_thread, started daemon 140204744488704)>,\n",
       " <Thread(pymongo_server_monitor_thread, started daemon 140204736096000)>,\n",
       " <Thread(pymongo_kill_cursors_thread, started daemon 140204727703296)>,\n",
       " <Thread(pymongo_server_monitor_thread, started daemon 140204719310592)>,\n",
       " <Thread(pymongo_kill_cursors_thread, started daemon 140204710917888)>,\n",
       " <Thread(pymongo_server_monitor_thread, started daemon 140204702525184)>,\n",
       " <Thread(pymongo_kill_cursors_thread, started daemon 140204694132480)>,\n",
       " <Thread(pymongo_server_monitor_thread, started daemon 140204685739776)>,\n",
       " <Thread(pymongo_kill_cursors_thread, started daemon 140204677347072)>,\n",
       " <Thread(pymongo_server_monitor_thread, started daemon 140204668954368)>,\n",
       " <Thread(pymongo_kill_cursors_thread, started daemon 140204660561664)>,\n",
       " <Thread(pymongo_server_monitor_thread, started daemon 140204652168960)>,\n",
       " <Thread(pymongo_kill_cursors_thread, started daemon 140204643776256)>,\n",
       " <Thread(pymongo_server_monitor_thread, started daemon 140204635383552)>,\n",
       " <Thread(pymongo_kill_cursors_thread, started daemon 140204626990848)>,\n",
       " <Thread(pymongo_server_monitor_thread, started daemon 140204618598144)>,\n",
       " <Thread(pymongo_kill_cursors_thread, started daemon 140204610205440)>,\n",
       " <Thread(pymongo_server_monitor_thread, started daemon 140204601812736)>,\n",
       " <Thread(pymongo_kill_cursors_thread, started daemon 140204593420032)>,\n",
       " <Thread(pymongo_server_monitor_thread, started daemon 140204585027328)>,\n",
       " <Thread(pymongo_kill_cursors_thread, started daemon 140204576634624)>,\n",
       " <Thread(pymongo_server_monitor_thread, started daemon 140204568241920)>,\n",
       " <Thread(pymongo_kill_cursors_thread, started daemon 140204559849216)>,\n",
       " <Thread(pymongo_server_monitor_thread, started daemon 140204551456512)>,\n",
       " <Thread(pymongo_kill_cursors_thread, started daemon 140204543063808)>,\n",
       " <Thread(pymongo_server_monitor_thread, started daemon 140204534671104)>,\n",
       " <Thread(pymongo_kill_cursors_thread, started daemon 140204526278400)>,\n",
       " <Thread(pymongo_server_monitor_thread, started daemon 140204517885696)>,\n",
       " <Thread(pymongo_kill_cursors_thread, started daemon 140204509492992)>,\n",
       " <Thread(pymongo_server_monitor_thread, started daemon 140204501100288)>,\n",
       " <Thread(pymongo_kill_cursors_thread, started daemon 140204492707584)>,\n",
       " <Thread(pymongo_server_monitor_thread, started daemon 140204484314880)>,\n",
       " <Thread(pymongo_kill_cursors_thread, started daemon 140204475922176)>,\n",
       " <Thread(pymongo_server_monitor_thread, started daemon 140204467529472)>,\n",
       " <Thread(pymongo_kill_cursors_thread, started daemon 140204459136768)>,\n",
       " <Thread(pymongo_server_monitor_thread, started daemon 140204450744064)>,\n",
       " <Thread(pymongo_kill_cursors_thread, started daemon 140204442351360)>,\n",
       " <Thread(pymongo_server_monitor_thread, started daemon 140204433958656)>,\n",
       " <Thread(pymongo_kill_cursors_thread, started daemon 140204425565952)>,\n",
       " <Thread(pymongo_server_monitor_thread, started daemon 140204417173248)>,\n",
       " <Thread(pymongo_kill_cursors_thread, started daemon 140204408780544)>,\n",
       " <Thread(pymongo_server_monitor_thread, started daemon 140204400387840)>,\n",
       " <Thread(pymongo_kill_cursors_thread, started daemon 140204391995136)>,\n",
       " <Thread(pymongo_server_monitor_thread, started daemon 140204383602432)>,\n",
       " <Thread(pymongo_kill_cursors_thread, started daemon 140204375209728)>,\n",
       " <Thread(pymongo_server_monitor_thread, started daemon 140204366817024)>,\n",
       " <Thread(pymongo_kill_cursors_thread, started daemon 140204358424320)>,\n",
       " <Thread(pymongo_server_monitor_thread, started daemon 140204350031616)>,\n",
       " <Thread(pymongo_kill_cursors_thread, started daemon 140204341638912)>,\n",
       " <Thread(pymongo_server_monitor_thread, started daemon 140204333246208)>,\n",
       " <Thread(pymongo_kill_cursors_thread, started daemon 140204324853504)>,\n",
       " <Thread(pymongo_server_monitor_thread, started daemon 140204316460800)>,\n",
       " <Thread(pymongo_kill_cursors_thread, started daemon 140204308068096)>,\n",
       " <Thread(pymongo_server_monitor_thread, started daemon 140204299675392)>,\n",
       " <Thread(pymongo_kill_cursors_thread, started daemon 140204291282688)>,\n",
       " <Thread(pymongo_server_monitor_thread, started daemon 140204282889984)>,\n",
       " <Thread(pymongo_kill_cursors_thread, started daemon 140204274497280)>,\n",
       " <Thread(pymongo_server_monitor_thread, started daemon 140204266104576)>,\n",
       " <Thread(pymongo_kill_cursors_thread, started daemon 140204257711872)>,\n",
       " <Thread(pymongo_server_monitor_thread, started daemon 140204249319168)>,\n",
       " <Thread(pymongo_kill_cursors_thread, started daemon 140204240926464)>,\n",
       " <Thread(pymongo_server_monitor_thread, started daemon 140204232533760)>,\n",
       " <Thread(pymongo_kill_cursors_thread, started daemon 140204224141056)>,\n",
       " <Thread(pymongo_server_monitor_thread, started daemon 140204215748352)>,\n",
       " <Thread(pymongo_kill_cursors_thread, started daemon 140204207355648)>,\n",
       " <Thread(pymongo_server_monitor_thread, started daemon 140204198962944)>,\n",
       " <Thread(pymongo_kill_cursors_thread, started daemon 140204190570240)>,\n",
       " <Thread(pymongo_server_monitor_thread, started daemon 140204182177536)>,\n",
       " <Thread(pymongo_kill_cursors_thread, started daemon 140204173784832)>,\n",
       " <Thread(pymongo_server_monitor_thread, started daemon 140204165392128)>,\n",
       " <Thread(pymongo_kill_cursors_thread, started daemon 140204156999424)>,\n",
       " <Thread(pymongo_server_monitor_thread, started daemon 140204148606720)>,\n",
       " <Thread(pymongo_kill_cursors_thread, started daemon 140204140214016)>,\n",
       "  <QA_ENGINE with ['backtest'] kernals>,\n",
       " < QA_Thread backtest >]"
      ]
     },
     "execution_count": 5,
     "metadata": {},
     "output_type": "execute_result"
    }
   ],
   "source": [
    "#线程里面 开启了一个broker的线程 \n",
    "threading.enumerate()"
   ]
  },
  {
   "cell_type": "code",
   "execution_count": 6,
   "metadata": {},
   "outputs": [
    {
     "data": {
      "text/plain": [
       "True"
      ]
     },
     "execution_count": 6,
     "metadata": {},
     "output_type": "execute_result"
    }
   ],
   "source": [
    "# 再连接一个模拟盘的BROKER\n",
    "market.connect(QA.RUNNING_ENVIRONMENT.SIMULATION)"
   ]
  },
  {
   "cell_type": "code",
   "execution_count": 7,
   "metadata": {},
   "outputs": [
    {
     "data": {
      "text/plain": [
       "[<_MainThread(MainThread, started 140207925802752)>,\n",
       " <Thread(Thread-2, started daemon 140207779256064)>,\n",
       " <Heartbeat(Thread-3, started daemon 140207770863360)>,\n",
       " <HistorySavingThread(IPythonHistorySavingThread, started 140207745423104)>,\n",
       " <ParentPollerUnix(Thread-1, started daemon 140207395436288)>,\n",
       " <Thread(pymongo_server_monitor_thread, started daemon 140207026829056)>,\n",
       " <Thread(pymongo_kill_cursors_thread, started daemon 140207018436352)>,\n",
       " <Thread(pymongo_server_monitor_thread, started daemon 140207010043648)>,\n",
       " <Thread(pymongo_kill_cursors_thread, started daemon 140207001650944)>,\n",
       " <Thread(pymongo_server_monitor_thread, started daemon 140206791456512)>,\n",
       " <Thread(pymongo_kill_cursors_thread, started daemon 140206783063808)>,\n",
       " <Thread(pymongo_server_monitor_thread, started daemon 140206742927104)>,\n",
       " <Thread(pymongo_kill_cursors_thread, started daemon 140206734534400)>,\n",
       " <Thread(pymongo_server_monitor_thread, started daemon 140206455912192)>,\n",
       " <Thread(pymongo_kill_cursors_thread, started daemon 140206447519488)>,\n",
       " <Thread(pymongo_server_monitor_thread, started daemon 140206439126784)>,\n",
       " <Thread(pymongo_kill_cursors_thread, started daemon 140206430734080)>,\n",
       " <Thread(pymongo_server_monitor_thread, started daemon 140206422341376)>,\n",
       " <Thread(pymongo_kill_cursors_thread, started daemon 140206413948672)>,\n",
       " <Thread(pymongo_server_monitor_thread, started daemon 140206405555968)>,\n",
       " <Thread(pymongo_kill_cursors_thread, started daemon 140205851932416)>,\n",
       " <Thread(pymongo_server_monitor_thread, started daemon 140205843539712)>,\n",
       " <Thread(pymongo_kill_cursors_thread, started daemon 140205835147008)>,\n",
       " <Thread(pymongo_server_monitor_thread, started daemon 140205826754304)>,\n",
       " <Thread(pymongo_kill_cursors_thread, started daemon 140205818361600)>,\n",
       " <Thread(pymongo_server_monitor_thread, started daemon 140205809968896)>,\n",
       " <Thread(pymongo_kill_cursors_thread, started daemon 140205801576192)>,\n",
       " <Thread(pymongo_server_monitor_thread, started daemon 140205315061504)>,\n",
       " <Thread(pymongo_kill_cursors_thread, started daemon 140205306668800)>,\n",
       " <Thread(pymongo_server_monitor_thread, started daemon 140205298276096)>,\n",
       " <Thread(pymongo_kill_cursors_thread, started daemon 140205289883392)>,\n",
       " <Thread(pymongo_server_monitor_thread, started daemon 140205281490688)>,\n",
       " <Thread(pymongo_kill_cursors_thread, started daemon 140205273097984)>,\n",
       " <Thread(pymongo_server_monitor_thread, started daemon 140205264705280)>,\n",
       " <Thread(pymongo_kill_cursors_thread, started daemon 140205046626048)>,\n",
       " <Thread(pymongo_server_monitor_thread, started daemon 140205038233344)>,\n",
       " <Thread(pymongo_kill_cursors_thread, started daemon 140205029840640)>,\n",
       " <Thread(pymongo_server_monitor_thread, started daemon 140205021447936)>,\n",
       " <Thread(pymongo_kill_cursors_thread, started daemon 140205013055232)>,\n",
       " <Thread(pymongo_server_monitor_thread, started daemon 140205004662528)>,\n",
       " <Thread(pymongo_kill_cursors_thread, started daemon 140204996269824)>,\n",
       " <Thread(pymongo_server_monitor_thread, started daemon 140204987877120)>,\n",
       " <Thread(pymongo_kill_cursors_thread, started daemon 140204979484416)>,\n",
       " <Thread(pymongo_server_monitor_thread, started daemon 140204971091712)>,\n",
       " <Thread(pymongo_kill_cursors_thread, started daemon 140204962699008)>,\n",
       " <Thread(pymongo_server_monitor_thread, started daemon 140204954306304)>,\n",
       " <Thread(pymongo_kill_cursors_thread, started daemon 140204945913600)>,\n",
       " <Thread(pymongo_server_monitor_thread, started daemon 140204937520896)>,\n",
       " <Thread(pymongo_kill_cursors_thread, started daemon 140204929128192)>,\n",
       " <Thread(pymongo_server_monitor_thread, started daemon 140204920735488)>,\n",
       " <Thread(pymongo_kill_cursors_thread, started daemon 140204912342784)>,\n",
       " <Thread(pymongo_server_monitor_thread, started daemon 140204903950080)>,\n",
       " <Thread(pymongo_kill_cursors_thread, started daemon 140204895557376)>,\n",
       " <Thread(pymongo_server_monitor_thread, started daemon 140204887164672)>,\n",
       " <Thread(pymongo_kill_cursors_thread, started daemon 140204878771968)>,\n",
       " <Thread(pymongo_server_monitor_thread, started daemon 140204870379264)>,\n",
       " <Thread(pymongo_kill_cursors_thread, started daemon 140204861986560)>,\n",
       " <Thread(pymongo_server_monitor_thread, started daemon 140204853593856)>,\n",
       " <Thread(pymongo_kill_cursors_thread, started daemon 140204845201152)>,\n",
       " <Thread(pymongo_server_monitor_thread, started daemon 140204836808448)>,\n",
       " <Thread(pymongo_kill_cursors_thread, started daemon 140204828415744)>,\n",
       " <Thread(pymongo_server_monitor_thread, started daemon 140204820023040)>,\n",
       " <Thread(pymongo_kill_cursors_thread, started daemon 140204811630336)>,\n",
       " <Thread(pymongo_server_monitor_thread, started daemon 140204803237632)>,\n",
       " <Thread(pymongo_kill_cursors_thread, started daemon 140204794844928)>,\n",
       " <Thread(pymongo_server_monitor_thread, started daemon 140204786452224)>,\n",
       " <Thread(pymongo_kill_cursors_thread, started daemon 140204778059520)>,\n",
       " <Thread(pymongo_server_monitor_thread, started daemon 140204769666816)>,\n",
       " <Thread(pymongo_kill_cursors_thread, started daemon 140204761274112)>,\n",
       " <Thread(pymongo_server_monitor_thread, started daemon 140204752881408)>,\n",
       " <Thread(pymongo_kill_cursors_thread, started daemon 140204744488704)>,\n",
       " <Thread(pymongo_server_monitor_thread, started daemon 140204736096000)>,\n",
       " <Thread(pymongo_kill_cursors_thread, started daemon 140204727703296)>,\n",
       " <Thread(pymongo_server_monitor_thread, started daemon 140204719310592)>,\n",
       " <Thread(pymongo_kill_cursors_thread, started daemon 140204710917888)>,\n",
       " <Thread(pymongo_server_monitor_thread, started daemon 140204702525184)>,\n",
       " <Thread(pymongo_kill_cursors_thread, started daemon 140204694132480)>,\n",
       " <Thread(pymongo_server_monitor_thread, started daemon 140204685739776)>,\n",
       " <Thread(pymongo_kill_cursors_thread, started daemon 140204677347072)>,\n",
       " <Thread(pymongo_server_monitor_thread, started daemon 140204668954368)>,\n",
       " <Thread(pymongo_kill_cursors_thread, started daemon 140204660561664)>,\n",
       " <Thread(pymongo_server_monitor_thread, started daemon 140204652168960)>,\n",
       " <Thread(pymongo_kill_cursors_thread, started daemon 140204643776256)>,\n",
       " <Thread(pymongo_server_monitor_thread, started daemon 140204635383552)>,\n",
       " <Thread(pymongo_kill_cursors_thread, started daemon 140204626990848)>,\n",
       " <Thread(pymongo_server_monitor_thread, started daemon 140204618598144)>,\n",
       " <Thread(pymongo_kill_cursors_thread, started daemon 140204610205440)>,\n",
       " <Thread(pymongo_server_monitor_thread, started daemon 140204601812736)>,\n",
       " <Thread(pymongo_kill_cursors_thread, started daemon 140204593420032)>,\n",
       " <Thread(pymongo_server_monitor_thread, started daemon 140204585027328)>,\n",
       " <Thread(pymongo_kill_cursors_thread, started daemon 140204576634624)>,\n",
       " <Thread(pymongo_server_monitor_thread, started daemon 140204568241920)>,\n",
       " <Thread(pymongo_kill_cursors_thread, started daemon 140204559849216)>,\n",
       " <Thread(pymongo_server_monitor_thread, started daemon 140204551456512)>,\n",
       " <Thread(pymongo_kill_cursors_thread, started daemon 140204543063808)>,\n",
       " <Thread(pymongo_server_monitor_thread, started daemon 140204534671104)>,\n",
       " <Thread(pymongo_kill_cursors_thread, started daemon 140204526278400)>,\n",
       " <Thread(pymongo_server_monitor_thread, started daemon 140204517885696)>,\n",
       " <Thread(pymongo_kill_cursors_thread, started daemon 140204509492992)>,\n",
       " <Thread(pymongo_server_monitor_thread, started daemon 140204501100288)>,\n",
       " <Thread(pymongo_kill_cursors_thread, started daemon 140204492707584)>,\n",
       " <Thread(pymongo_server_monitor_thread, started daemon 140204484314880)>,\n",
       " <Thread(pymongo_kill_cursors_thread, started daemon 140204475922176)>,\n",
       " <Thread(pymongo_server_monitor_thread, started daemon 140204467529472)>,\n",
       " <Thread(pymongo_kill_cursors_thread, started daemon 140204459136768)>,\n",
       " <Thread(pymongo_server_monitor_thread, started daemon 140204450744064)>,\n",
       " <Thread(pymongo_kill_cursors_thread, started daemon 140204442351360)>,\n",
       " <Thread(pymongo_server_monitor_thread, started daemon 140204433958656)>,\n",
       " <Thread(pymongo_kill_cursors_thread, started daemon 140204425565952)>,\n",
       " <Thread(pymongo_server_monitor_thread, started daemon 140204417173248)>,\n",
       " <Thread(pymongo_kill_cursors_thread, started daemon 140204408780544)>,\n",
       " <Thread(pymongo_server_monitor_thread, started daemon 140204400387840)>,\n",
       " <Thread(pymongo_kill_cursors_thread, started daemon 140204391995136)>,\n",
       " <Thread(pymongo_server_monitor_thread, started daemon 140204383602432)>,\n",
       " <Thread(pymongo_kill_cursors_thread, started daemon 140204375209728)>,\n",
       " <Thread(pymongo_server_monitor_thread, started daemon 140204366817024)>,\n",
       " <Thread(pymongo_kill_cursors_thread, started daemon 140204358424320)>,\n",
       " <Thread(pymongo_server_monitor_thread, started daemon 140204350031616)>,\n",
       " <Thread(pymongo_kill_cursors_thread, started daemon 140204341638912)>,\n",
       " <Thread(pymongo_server_monitor_thread, started daemon 140204333246208)>,\n",
       " <Thread(pymongo_kill_cursors_thread, started daemon 140204324853504)>,\n",
       " <Thread(pymongo_server_monitor_thread, started daemon 140204316460800)>,\n",
       " <Thread(pymongo_kill_cursors_thread, started daemon 140204308068096)>,\n",
       " <Thread(pymongo_server_monitor_thread, started daemon 140204299675392)>,\n",
       " <Thread(pymongo_kill_cursors_thread, started daemon 140204291282688)>,\n",
       " <Thread(pymongo_server_monitor_thread, started daemon 140204282889984)>,\n",
       " <Thread(pymongo_kill_cursors_thread, started daemon 140204274497280)>,\n",
       " <Thread(pymongo_server_monitor_thread, started daemon 140204266104576)>,\n",
       " <Thread(pymongo_kill_cursors_thread, started daemon 140204257711872)>,\n",
       " <Thread(pymongo_server_monitor_thread, started daemon 140204249319168)>,\n",
       " <Thread(pymongo_kill_cursors_thread, started daemon 140204240926464)>,\n",
       " <Thread(pymongo_server_monitor_thread, started daemon 140204232533760)>,\n",
       " <Thread(pymongo_kill_cursors_thread, started daemon 140204224141056)>,\n",
       " <Thread(pymongo_server_monitor_thread, started daemon 140204215748352)>,\n",
       " <Thread(pymongo_kill_cursors_thread, started daemon 140204207355648)>,\n",
       " <Thread(pymongo_server_monitor_thread, started daemon 140204198962944)>,\n",
       " <Thread(pymongo_kill_cursors_thread, started daemon 140204190570240)>,\n",
       " <Thread(pymongo_server_monitor_thread, started daemon 140204182177536)>,\n",
       " <Thread(pymongo_kill_cursors_thread, started daemon 140204173784832)>,\n",
       " <Thread(pymongo_server_monitor_thread, started daemon 140204165392128)>,\n",
       " <Thread(pymongo_kill_cursors_thread, started daemon 140204156999424)>,\n",
       " <Thread(pymongo_server_monitor_thread, started daemon 140204148606720)>,\n",
       " <Thread(pymongo_kill_cursors_thread, started daemon 140204140214016)>,\n",
       "  <QA_ENGINE with ['backtest', 'simulation'] kernals>,\n",
       " < QA_Thread backtest >,\n",
       " < QA_Thread simulation >]"
      ]
     },
     "execution_count": 7,
     "metadata": {},
     "output_type": "execute_result"
    }
   ],
   "source": [
    "\"\"\"\n",
    "然后我们假设又连进了模拟盘 看到这时候引擎里面有两个broker了\n",
    "好比是通达信连了实盘又连了模拟盘\n",
    "\"\"\"\n",
    "threading.enumerate()"
   ]
  },
  {
   "cell_type": "code",
   "execution_count": null,
   "metadata": {},
   "outputs": [],
   "source": []
  },
  {
   "cell_type": "code",
   "execution_count": 8,
   "metadata": {},
   "outputs": [
    {
     "name": "stdout",
     "output_type": "stream",
     "text": [
      "['Acc_2nSHsdLE', 'Acc_iAdB2NPW']\n"
     ]
    }
   ],
   "source": [
    "\"\"\"\n",
    "登陆到这个交易前置上 把你刚才的两个账户\n",
    "\"\"\"\n",
    "# 登陆交易\n",
    "market.login(QA.BROKER_TYPE.BACKETEST,a_1)\n",
    "market.login(QA.BROKER_TYPE.BACKETEST,a_2)\n",
    "# 打印市场中的交易账户\n",
    "print(market.get_account_id())\n",
    "\n"
   ]
  },
  {
   "cell_type": "code",
   "execution_count": null,
   "metadata": {},
   "outputs": [],
   "source": []
  },
  {
   "cell_type": "code",
   "execution_count": null,
   "metadata": {},
   "outputs": [],
   "source": []
  },
  {
   "cell_type": "code",
   "execution_count": 9,
   "metadata": {
    "scrolled": true
   },
   "outputs": [],
   "source": [
    "#然后这里 往交易前置里面添加订单 这个操作是异步的"
   ]
  },
  {
   "cell_type": "code",
   "execution_count": 10,
   "metadata": {},
   "outputs": [],
   "source": [
    "#这两个是 每个账户都下了单"
   ]
  },
  {
   "cell_type": "code",
   "execution_count": 12,
   "metadata": {},
   "outputs": [
    {
     "name": "stderr",
     "output_type": "stream",
     "text": [
      "QUANTAXIS>> From Engine  <QA_ENGINE with ['backtest', 'simulation'] kernals>: There are still 1 tasks to do\n",
      "QUANTAXIS>> From Engine < QA_Thread backtest >: There are still 1 tasks to do\n"
     ]
    },
    {
     "name": "stdout",
     "output_type": "stream",
     "text": [
      "< QA_Order datetime:2017-12-14 09:31:00 code:000001 price:13.0 towards:1 btype:0x01 order_id:Order_aEhq5KHe account:Acc_2nSHsdLE status:300 >\n"
     ]
    }
   ],
   "source": [
    "market.insert_order(account_id=a_1, amount=100000,price=None, amount_model=QA.AMOUNT_MODEL.BY_PRICE,time='2017-12-14', code='000001', \n",
    "                    order_model=QA.ORDER_MODEL.CLOSE, towards=QA.ORDER_DIRECTION.BUY,market_type=QA.MARKET_TYPE.STOCK_DAY,\n",
    "                   data_type=QA.MARKETDATA_TYPE.DAY,broker_name=QA.BROKER_TYPE.BACKETEST)"
   ]
  },
  {
   "cell_type": "code",
   "execution_count": 13,
   "metadata": {},
   "outputs": [
    {
     "name": "stderr",
     "output_type": "stream",
     "text": [
      "QUANTAXIS>> From Engine  <QA_ENGINE with ['backtest', 'simulation'] kernals>: There are still 1 tasks to do\n",
      "QUANTAXIS>> From Engine < QA_Thread backtest >: There are still 1 tasks to do\n"
     ]
    },
    {
     "name": "stdout",
     "output_type": "stream",
     "text": [
      "< QA_Order datetime:2017-12-14 09:31:00 code:000001 price:13.0 towards:1 btype:0x01 order_id:Order_ZMn5WFYf account:Acc_iAdB2NPW status:300 >\n"
     ]
    }
   ],
   "source": [
    "market.insert_order(account_id=a_2, amount=100000,price=None, amount_model=QA.AMOUNT_MODEL.BY_PRICE,time='2017-12-14', code='000001', \n",
    "                    order_model=QA.ORDER_MODEL.CLOSE, towards=QA.ORDER_DIRECTION.BUY,market_type=QA.MARKET_TYPE.STOCK_DAY,\n",
    "                   data_type=QA.MARKETDATA_TYPE.DAY,broker_name=QA.BROKER_TYPE.BACKETEST)"
   ]
  },
  {
   "cell_type": "code",
   "execution_count": null,
   "metadata": {},
   "outputs": [],
   "source": [
    "#\n",
    "\"\"\"\n",
    "下单以后 现金不会减少 但是可用现金会被扣除\n",
    "因为如果是市价单 你的成交价未定\n",
    "没法直接减少现金\n",
    "可用现金减少 cash不减少 等到settle 等到成功交易的时候 才会扣cash\n",
    "\n",
    "\"\"\""
   ]
  },
  {
   "cell_type": "code",
   "execution_count": 14,
   "metadata": {
    "scrolled": true
   },
   "outputs": [
    {
     "data": {
      "text/plain": [
       "900000"
      ]
     },
     "execution_count": 14,
     "metadata": {},
     "output_type": "execute_result"
    }
   ],
   "source": [
    "market.session[a_1].cash_available"
   ]
  },
  {
   "cell_type": "code",
   "execution_count": 15,
   "metadata": {},
   "outputs": [
    {
     "data": {
      "text/plain": [
       "[1000000]"
      ]
     },
     "execution_count": 15,
     "metadata": {},
     "output_type": "execute_result"
    }
   ],
   "source": [
    "market.session[a_1].cash"
   ]
  },
  {
   "cell_type": "code",
   "execution_count": 18,
   "metadata": {},
   "outputs": [
    {
     "data": {
      "text/plain": [
       "'\\n这里是交易前置内部的订单队列\\n'"
      ]
     },
     "execution_count": 18,
     "metadata": {},
     "output_type": "execute_result"
    }
   ],
   "source": [
    "\"\"\"\n",
    "这里是交易前置内部的订单队列\n",
    "\"\"\"\n"
   ]
  },
  {
   "cell_type": "code",
   "execution_count": 17,
   "metadata": {},
   "outputs": [
    {
     "data": {
      "text/html": [
       "<div>\n",
       "<style scoped>\n",
       "    .dataframe tbody tr th:only-of-type {\n",
       "        vertical-align: middle;\n",
       "    }\n",
       "\n",
       "    .dataframe tbody tr th {\n",
       "        vertical-align: top;\n",
       "    }\n",
       "\n",
       "    .dataframe thead th {\n",
       "        text-align: right;\n",
       "    }\n",
       "</style>\n",
       "<table border=\"1\" class=\"dataframe\">\n",
       "  <thead>\n",
       "    <tr style=\"text-align: right;\">\n",
       "      <th></th>\n",
       "      <th>account_cookie</th>\n",
       "      <th>amount</th>\n",
       "      <th>amount_model</th>\n",
       "      <th>code</th>\n",
       "      <th>data_type</th>\n",
       "      <th>date</th>\n",
       "      <th>datetime</th>\n",
       "      <th>market_type</th>\n",
       "      <th>order_id</th>\n",
       "      <th>order_model</th>\n",
       "      <th>price</th>\n",
       "      <th>sending_time</th>\n",
       "      <th>status</th>\n",
       "      <th>strategy</th>\n",
       "      <th>towards</th>\n",
       "      <th>trade_id</th>\n",
       "      <th>transact_time</th>\n",
       "      <th>type</th>\n",
       "      <th>user</th>\n",
       "    </tr>\n",
       "    <tr>\n",
       "      <th>order_id</th>\n",
       "      <th></th>\n",
       "      <th></th>\n",
       "      <th></th>\n",
       "      <th></th>\n",
       "      <th></th>\n",
       "      <th></th>\n",
       "      <th></th>\n",
       "      <th></th>\n",
       "      <th></th>\n",
       "      <th></th>\n",
       "      <th></th>\n",
       "      <th></th>\n",
       "      <th></th>\n",
       "      <th></th>\n",
       "      <th></th>\n",
       "      <th></th>\n",
       "      <th></th>\n",
       "      <th></th>\n",
       "      <th></th>\n",
       "    </tr>\n",
       "  </thead>\n",
       "  <tbody>\n",
       "    <tr>\n",
       "      <th>Order_aEhq5KHe</th>\n",
       "      <td>Acc_2nSHsdLE</td>\n",
       "      <td>100000</td>\n",
       "      <td>by_price</td>\n",
       "      <td>000001</td>\n",
       "      <td>day</td>\n",
       "      <td>2017-12-14</td>\n",
       "      <td>2017-12-14 09:31:00</td>\n",
       "      <td>0x01</td>\n",
       "      <td>Order_aEhq5KHe</td>\n",
       "      <td>close</td>\n",
       "      <td>13.0</td>\n",
       "      <td>2017-12-14 09:31:00</td>\n",
       "      <td>300</td>\n",
       "      <td></td>\n",
       "      <td>1</td>\n",
       "      <td>None</td>\n",
       "      <td>None</td>\n",
       "      <td>0x01</td>\n",
       "      <td></td>\n",
       "    </tr>\n",
       "    <tr>\n",
       "      <th>Order_ZMn5WFYf</th>\n",
       "      <td>Acc_iAdB2NPW</td>\n",
       "      <td>100000</td>\n",
       "      <td>by_price</td>\n",
       "      <td>000001</td>\n",
       "      <td>day</td>\n",
       "      <td>2017-12-14</td>\n",
       "      <td>2017-12-14 09:31:00</td>\n",
       "      <td>0x01</td>\n",
       "      <td>Order_ZMn5WFYf</td>\n",
       "      <td>close</td>\n",
       "      <td>13.0</td>\n",
       "      <td>2017-12-14 09:31:00</td>\n",
       "      <td>300</td>\n",
       "      <td></td>\n",
       "      <td>1</td>\n",
       "      <td>None</td>\n",
       "      <td>None</td>\n",
       "      <td>0x01</td>\n",
       "      <td></td>\n",
       "    </tr>\n",
       "  </tbody>\n",
       "</table>\n",
       "</div>"
      ],
      "text/plain": [
       "               account_cookie  amount amount_model    code data_type  \\\n",
       "order_id                                                               \n",
       "Order_aEhq5KHe   Acc_2nSHsdLE  100000     by_price  000001       day   \n",
       "Order_ZMn5WFYf   Acc_iAdB2NPW  100000     by_price  000001       day   \n",
       "\n",
       "                      date             datetime market_type        order_id  \\\n",
       "order_id                                                                      \n",
       "Order_aEhq5KHe  2017-12-14  2017-12-14 09:31:00        0x01  Order_aEhq5KHe   \n",
       "Order_ZMn5WFYf  2017-12-14  2017-12-14 09:31:00        0x01  Order_ZMn5WFYf   \n",
       "\n",
       "               order_model  price         sending_time  status strategy  \\\n",
       "order_id                                                                  \n",
       "Order_aEhq5KHe       close   13.0  2017-12-14 09:31:00     300            \n",
       "Order_ZMn5WFYf       close   13.0  2017-12-14 09:31:00     300            \n",
       "\n",
       "                towards trade_id transact_time  type user  \n",
       "order_id                                                   \n",
       "Order_aEhq5KHe        1     None          None  0x01       \n",
       "Order_ZMn5WFYf        1     None          None  0x01       "
      ]
     },
     "execution_count": 17,
     "metadata": {},
     "output_type": "execute_result"
    }
   ],
   "source": [
    "market.broker[QA.BROKER_TYPE.BACKETEST].order_handler.order_queue()"
   ]
  },
  {
   "cell_type": "code",
   "execution_count": null,
   "metadata": {},
   "outputs": [],
   "source": []
  },
  {
   "cell_type": "code",
   "execution_count": null,
   "metadata": {},
   "outputs": [],
   "source": []
  },
  {
   "cell_type": "code",
   "execution_count": 19,
   "metadata": {},
   "outputs": [
    {
     "data": {
      "text/plain": [
       "[< QA_Order datetime:2017-12-14 09:31:00 code:000001 price:13.0 towards:1 btype:0x01 order_id:Order_aEhq5KHe account:Acc_2nSHsdLE status:100 >,\n",
       " < QA_Order datetime:2017-12-14 09:31:00 code:000001 price:13.0 towards:1 btype:0x01 order_id:Order_ZMn5WFYf account:Acc_iAdB2NPW status:100 >]"
      ]
     },
     "execution_count": 19,
     "metadata": {},
     "output_type": "execute_result"
    }
   ],
   "source": [
    "market.broker[QA.BROKER_TYPE.BACKETEST].order_handler.order_queue.trade_list"
   ]
  },
  {
   "cell_type": "code",
   "execution_count": 20,
   "metadata": {},
   "outputs": [],
   "source": [
    "#pending 是指的待成交列表\n"
   ]
  },
  {
   "cell_type": "code",
   "execution_count": 21,
   "metadata": {},
   "outputs": [
    {
     "data": {
      "text/html": [
       "<div>\n",
       "<style scoped>\n",
       "    .dataframe tbody tr th:only-of-type {\n",
       "        vertical-align: middle;\n",
       "    }\n",
       "\n",
       "    .dataframe tbody tr th {\n",
       "        vertical-align: top;\n",
       "    }\n",
       "\n",
       "    .dataframe thead th {\n",
       "        text-align: right;\n",
       "    }\n",
       "</style>\n",
       "<table border=\"1\" class=\"dataframe\">\n",
       "  <thead>\n",
       "    <tr style=\"text-align: right;\">\n",
       "      <th></th>\n",
       "      <th>account_cookie</th>\n",
       "      <th>amount</th>\n",
       "      <th>amount_model</th>\n",
       "      <th>code</th>\n",
       "      <th>data_type</th>\n",
       "      <th>date</th>\n",
       "      <th>datetime</th>\n",
       "      <th>market_type</th>\n",
       "      <th>order_id</th>\n",
       "      <th>order_model</th>\n",
       "      <th>price</th>\n",
       "      <th>sending_time</th>\n",
       "      <th>status</th>\n",
       "      <th>strategy</th>\n",
       "      <th>towards</th>\n",
       "      <th>trade_id</th>\n",
       "      <th>transact_time</th>\n",
       "      <th>type</th>\n",
       "      <th>user</th>\n",
       "    </tr>\n",
       "    <tr>\n",
       "      <th>order_id</th>\n",
       "      <th></th>\n",
       "      <th></th>\n",
       "      <th></th>\n",
       "      <th></th>\n",
       "      <th></th>\n",
       "      <th></th>\n",
       "      <th></th>\n",
       "      <th></th>\n",
       "      <th></th>\n",
       "      <th></th>\n",
       "      <th></th>\n",
       "      <th></th>\n",
       "      <th></th>\n",
       "      <th></th>\n",
       "      <th></th>\n",
       "      <th></th>\n",
       "      <th></th>\n",
       "      <th></th>\n",
       "      <th></th>\n",
       "    </tr>\n",
       "  </thead>\n",
       "  <tbody>\n",
       "    <tr>\n",
       "      <th>Order_aEhq5KHe</th>\n",
       "      <td>Acc_2nSHsdLE</td>\n",
       "      <td>100000</td>\n",
       "      <td>by_price</td>\n",
       "      <td>000001</td>\n",
       "      <td>day</td>\n",
       "      <td>2017-12-14</td>\n",
       "      <td>2017-12-14 09:31:00</td>\n",
       "      <td>0x01</td>\n",
       "      <td>Order_aEhq5KHe</td>\n",
       "      <td>close</td>\n",
       "      <td>13.0</td>\n",
       "      <td>2017-12-14 09:31:00</td>\n",
       "      <td>300</td>\n",
       "      <td></td>\n",
       "      <td>1</td>\n",
       "      <td>None</td>\n",
       "      <td>None</td>\n",
       "      <td>0x01</td>\n",
       "      <td></td>\n",
       "    </tr>\n",
       "    <tr>\n",
       "      <th>Order_ZMn5WFYf</th>\n",
       "      <td>Acc_iAdB2NPW</td>\n",
       "      <td>100000</td>\n",
       "      <td>by_price</td>\n",
       "      <td>000001</td>\n",
       "      <td>day</td>\n",
       "      <td>2017-12-14</td>\n",
       "      <td>2017-12-14 09:31:00</td>\n",
       "      <td>0x01</td>\n",
       "      <td>Order_ZMn5WFYf</td>\n",
       "      <td>close</td>\n",
       "      <td>13.0</td>\n",
       "      <td>2017-12-14 09:31:00</td>\n",
       "      <td>300</td>\n",
       "      <td></td>\n",
       "      <td>1</td>\n",
       "      <td>None</td>\n",
       "      <td>None</td>\n",
       "      <td>0x01</td>\n",
       "      <td></td>\n",
       "    </tr>\n",
       "  </tbody>\n",
       "</table>\n",
       "</div>"
      ],
      "text/plain": [
       "               account_cookie  amount amount_model    code data_type  \\\n",
       "order_id                                                               \n",
       "Order_aEhq5KHe   Acc_2nSHsdLE  100000     by_price  000001       day   \n",
       "Order_ZMn5WFYf   Acc_iAdB2NPW  100000     by_price  000001       day   \n",
       "\n",
       "                      date             datetime market_type        order_id  \\\n",
       "order_id                                                                      \n",
       "Order_aEhq5KHe  2017-12-14  2017-12-14 09:31:00        0x01  Order_aEhq5KHe   \n",
       "Order_ZMn5WFYf  2017-12-14  2017-12-14 09:31:00        0x01  Order_ZMn5WFYf   \n",
       "\n",
       "               order_model  price         sending_time  status strategy  \\\n",
       "order_id                                                                  \n",
       "Order_aEhq5KHe       close   13.0  2017-12-14 09:31:00     300            \n",
       "Order_ZMn5WFYf       close   13.0  2017-12-14 09:31:00     300            \n",
       "\n",
       "                towards trade_id transact_time  type user  \n",
       "order_id                                                   \n",
       "Order_aEhq5KHe        1     None          None  0x01       \n",
       "Order_ZMn5WFYf        1     None          None  0x01       "
      ]
     },
     "execution_count": 21,
     "metadata": {},
     "output_type": "execute_result"
    }
   ],
   "source": [
    "market.broker[QA.BROKER_TYPE.BACKETEST].order_handler.order_queue.pending"
   ]
  },
  {
   "cell_type": "code",
   "execution_count": 22,
   "metadata": {},
   "outputs": [
    {
     "name": "stderr",
     "output_type": "stream",
     "text": [
      "QUANTAXIS>> From Engine  <QA_ENGINE with ['backtest', 'simulation'] kernals>: There are still 1 tasks to do\n",
      "QUANTAXIS>> From Engine < QA_Thread backtest >: There are still 1 tasks to do\n"
     ]
    },
    {
     "name": "stdout",
     "output_type": "stream",
     "text": [
      "ON TRADE\n",
      "{'header': {'source': 'market', 'status': 200, 'code': '000001', 'session': {'user': '', 'strategy': '', 'account': 'Acc_2nSHsdLE'}, 'order_id': 'Order_aEhq5KHe', 'trade_id': 'Trade_d5DgyF0z'}, 'body': {'order': {'price': 13.0, 'code': '000001', 'amount': 7600, 'date': '2017-12-14', 'datetime': '2017-12-14 09:31:00', 'towards': 1}, 'market': {'open': 13.15, 'high': 13.31, 'low': 12.91, 'close': 13.0, 'volume': 1001998.0, 'code': '000001'}, 'fee': {'commission': 148.2, 'tax': 0}}}\n",
      "ON TRADE\n",
      "{'header': {'source': 'market', 'status': 200, 'code': '000001', 'session': {'user': '', 'strategy': '', 'account': 'Acc_iAdB2NPW'}, 'order_id': 'Order_ZMn5WFYf', 'trade_id': 'Trade_vDlFIdjg'}, 'body': {'order': {'price': 13.0, 'code': '000001', 'amount': 7600, 'date': '2017-12-14', 'datetime': '2017-12-14 09:31:00', 'towards': 1}, 'market': {'open': 13.15, 'high': 13.31, 'low': 12.91, 'close': 13.0, 'volume': 1001998.0, 'code': '000001'}, 'fee': {'commission': 148.2, 'tax': 0}}}\n"
     ]
    }
   ],
   "source": [
    "\"\"\"\n",
    "这个_trade是一个私有方法 只有模拟盘和回测才会有 实盘就是真的交易了 \n",
    "这个_trade是backtest类去调用的\n",
    "\n",
    "\"\"\"\n",
    "market._trade(QA.BROKER_TYPE.BACKETEST)"
   ]
  },
  {
   "cell_type": "code",
   "execution_count": null,
   "metadata": {},
   "outputs": [],
   "source": [
    "\"\"\"下面这两个是 查询  一个是异步查询 一个是同步的(no_wait)\n",
    "异步不会阻塞当前线程 同步会阻塞\"\"\""
   ]
  },
  {
   "cell_type": "code",
   "execution_count": 23,
   "metadata": {},
   "outputs": [
    {
     "name": "stderr",
     "output_type": "stream",
     "text": [
      "QUANTAXIS>> From Engine  <QA_ENGINE with ['backtest', 'simulation'] kernals>: There are still 1 tasks to do\n",
      "QUANTAXIS>> From Engine < QA_Thread backtest >: There are still 1 tasks to do\n"
     ]
    },
    {
     "name": "stdout",
     "output_type": "stream",
     "text": [
      "ON QUERY\n",
      "[['000001' '13.15' '13.31' '12.91' '13.0' '1001998.0' '2017-12-14']]\n"
     ]
    }
   ],
   "source": [
    "market.query_data(broker_name=QA.BROKER_TYPE.BACKETEST,data_type=QA.MARKETDATA_TYPE.DAY,market_type=QA.MARKET_TYPE.STOCK_DAY,\n",
    "                 code='000001',start='2017-12-14')"
   ]
  },
  {
   "cell_type": "code",
   "execution_count": 24,
   "metadata": {
    "scrolled": false
   },
   "outputs": [
    {
     "data": {
      "text/plain": [
       "array([['000001', '13.15', '13.31', '12.91', '13.0', '1001998.0',\n",
       "        '2017-12-14']],\n",
       "      dtype='<U10')"
      ]
     },
     "execution_count": 24,
     "metadata": {},
     "output_type": "execute_result"
    }
   ],
   "source": [
    "market.query_data_no_wait(broker_name=QA.BROKER_TYPE.BACKETEST,data_type=QA.MARKETDATA_TYPE.DAY,market_type=QA.MARKET_TYPE.STOCK_DAY,\n",
    "                 code='000001',start='2017-12-14')"
   ]
  },
  {
   "cell_type": "code",
   "execution_count": 25,
   "metadata": {},
   "outputs": [
    {
     "data": {
      "text/plain": [
       "< QA_Account Acc_2nSHsdLE Assets:999851.8 >"
      ]
     },
     "execution_count": 25,
     "metadata": {},
     "output_type": "execute_result"
    }
   ],
   "source": [
    "\"\"\"成交了以后 你可以看到账户的资产变化了\"\"\"\n",
    "market.session[a_1]"
   ]
  },
  {
   "cell_type": "code",
   "execution_count": 27,
   "metadata": {},
   "outputs": [
    {
     "data": {
      "text/plain": [
       "'待成交列表被清空'"
      ]
     },
     "execution_count": 27,
     "metadata": {},
     "output_type": "execute_result"
    }
   ],
   "source": [
    "\"\"\"待成交列表被清空\"\"\"\n"
   ]
  },
  {
   "cell_type": "code",
   "execution_count": 28,
   "metadata": {},
   "outputs": [
    {
     "data": {
      "text/html": [
       "<div>\n",
       "<style scoped>\n",
       "    .dataframe tbody tr th:only-of-type {\n",
       "        vertical-align: middle;\n",
       "    }\n",
       "\n",
       "    .dataframe tbody tr th {\n",
       "        vertical-align: top;\n",
       "    }\n",
       "\n",
       "    .dataframe thead th {\n",
       "        text-align: right;\n",
       "    }\n",
       "</style>\n",
       "<table border=\"1\" class=\"dataframe\">\n",
       "  <thead>\n",
       "    <tr style=\"text-align: right;\">\n",
       "      <th></th>\n",
       "      <th>account_cookie</th>\n",
       "      <th>amount</th>\n",
       "      <th>amount_model</th>\n",
       "      <th>code</th>\n",
       "      <th>data_type</th>\n",
       "      <th>date</th>\n",
       "      <th>datetime</th>\n",
       "      <th>market_type</th>\n",
       "      <th>order_id</th>\n",
       "      <th>order_model</th>\n",
       "      <th>price</th>\n",
       "      <th>sending_time</th>\n",
       "      <th>status</th>\n",
       "      <th>strategy</th>\n",
       "      <th>towards</th>\n",
       "      <th>trade_id</th>\n",
       "      <th>transact_time</th>\n",
       "      <th>type</th>\n",
       "      <th>user</th>\n",
       "    </tr>\n",
       "    <tr>\n",
       "      <th>order_id</th>\n",
       "      <th></th>\n",
       "      <th></th>\n",
       "      <th></th>\n",
       "      <th></th>\n",
       "      <th></th>\n",
       "      <th></th>\n",
       "      <th></th>\n",
       "      <th></th>\n",
       "      <th></th>\n",
       "      <th></th>\n",
       "      <th></th>\n",
       "      <th></th>\n",
       "      <th></th>\n",
       "      <th></th>\n",
       "      <th></th>\n",
       "      <th></th>\n",
       "      <th></th>\n",
       "      <th></th>\n",
       "      <th></th>\n",
       "    </tr>\n",
       "  </thead>\n",
       "  <tbody>\n",
       "  </tbody>\n",
       "</table>\n",
       "</div>"
      ],
      "text/plain": [
       "Empty DataFrame\n",
       "Columns: [account_cookie, amount, amount_model, code, data_type, date, datetime, market_type, order_id, order_model, price, sending_time, status, strategy, towards, trade_id, transact_time, type, user]\n",
       "Index: []"
      ]
     },
     "execution_count": 28,
     "metadata": {},
     "output_type": "execute_result"
    }
   ],
   "source": [
    "market.broker[QA.BROKER_TYPE.BACKETEST].order_handler.order_queue.pending"
   ]
  },
  {
   "cell_type": "code",
   "execution_count": 30,
   "metadata": {},
   "outputs": [
    {
     "data": {
      "text/plain": [
       "'待成交队列清空'"
      ]
     },
     "execution_count": 30,
     "metadata": {},
     "output_type": "execute_result"
    }
   ],
   "source": [
    "\"\"\"待成交队列清空\"\"\"\n"
   ]
  },
  {
   "cell_type": "code",
   "execution_count": 31,
   "metadata": {},
   "outputs": [
    {
     "data": {
      "text/plain": [
       "[]"
      ]
     },
     "execution_count": 31,
     "metadata": {},
     "output_type": "execute_result"
    }
   ],
   "source": [
    "market.broker[QA.BROKER_TYPE.BACKETEST].order_handler.order_queue.trade_list"
   ]
  },
  {
   "cell_type": "code",
   "execution_count": 32,
   "metadata": {},
   "outputs": [
    {
     "data": {
      "text/html": [
       "<div>\n",
       "<style scoped>\n",
       "    .dataframe tbody tr th:only-of-type {\n",
       "        vertical-align: middle;\n",
       "    }\n",
       "\n",
       "    .dataframe tbody tr th {\n",
       "        vertical-align: top;\n",
       "    }\n",
       "\n",
       "    .dataframe thead th {\n",
       "        text-align: right;\n",
       "    }\n",
       "</style>\n",
       "<table border=\"1\" class=\"dataframe\">\n",
       "  <thead>\n",
       "    <tr style=\"text-align: right;\">\n",
       "      <th></th>\n",
       "      <th>account_cookie</th>\n",
       "      <th>amount</th>\n",
       "      <th>amount_model</th>\n",
       "      <th>code</th>\n",
       "      <th>data_type</th>\n",
       "      <th>date</th>\n",
       "      <th>datetime</th>\n",
       "      <th>market_type</th>\n",
       "      <th>order_id</th>\n",
       "      <th>order_model</th>\n",
       "      <th>price</th>\n",
       "      <th>sending_time</th>\n",
       "      <th>status</th>\n",
       "      <th>strategy</th>\n",
       "      <th>towards</th>\n",
       "      <th>trade_id</th>\n",
       "      <th>transact_time</th>\n",
       "      <th>type</th>\n",
       "      <th>user</th>\n",
       "    </tr>\n",
       "    <tr>\n",
       "      <th>order_id</th>\n",
       "      <th></th>\n",
       "      <th></th>\n",
       "      <th></th>\n",
       "      <th></th>\n",
       "      <th></th>\n",
       "      <th></th>\n",
       "      <th></th>\n",
       "      <th></th>\n",
       "      <th></th>\n",
       "      <th></th>\n",
       "      <th></th>\n",
       "      <th></th>\n",
       "      <th></th>\n",
       "      <th></th>\n",
       "      <th></th>\n",
       "      <th></th>\n",
       "      <th></th>\n",
       "      <th></th>\n",
       "      <th></th>\n",
       "    </tr>\n",
       "  </thead>\n",
       "  <tbody>\n",
       "    <tr>\n",
       "      <th>Order_aEhq5KHe</th>\n",
       "      <td>Acc_2nSHsdLE</td>\n",
       "      <td>100000</td>\n",
       "      <td>by_price</td>\n",
       "      <td>000001</td>\n",
       "      <td>day</td>\n",
       "      <td>2017-12-14</td>\n",
       "      <td>2017-12-14 09:31:00</td>\n",
       "      <td>0x01</td>\n",
       "      <td>Order_aEhq5KHe</td>\n",
       "      <td>close</td>\n",
       "      <td>13.0</td>\n",
       "      <td>2017-12-14 09:31:00</td>\n",
       "      <td>200</td>\n",
       "      <td></td>\n",
       "      <td>1</td>\n",
       "      <td>None</td>\n",
       "      <td>None</td>\n",
       "      <td>0x01</td>\n",
       "      <td></td>\n",
       "    </tr>\n",
       "    <tr>\n",
       "      <th>Order_ZMn5WFYf</th>\n",
       "      <td>Acc_iAdB2NPW</td>\n",
       "      <td>100000</td>\n",
       "      <td>by_price</td>\n",
       "      <td>000001</td>\n",
       "      <td>day</td>\n",
       "      <td>2017-12-14</td>\n",
       "      <td>2017-12-14 09:31:00</td>\n",
       "      <td>0x01</td>\n",
       "      <td>Order_ZMn5WFYf</td>\n",
       "      <td>close</td>\n",
       "      <td>13.0</td>\n",
       "      <td>2017-12-14 09:31:00</td>\n",
       "      <td>200</td>\n",
       "      <td></td>\n",
       "      <td>1</td>\n",
       "      <td>None</td>\n",
       "      <td>None</td>\n",
       "      <td>0x01</td>\n",
       "      <td></td>\n",
       "    </tr>\n",
       "  </tbody>\n",
       "</table>\n",
       "</div>"
      ],
      "text/plain": [
       "               account_cookie  amount amount_model    code data_type  \\\n",
       "order_id                                                               \n",
       "Order_aEhq5KHe   Acc_2nSHsdLE  100000     by_price  000001       day   \n",
       "Order_ZMn5WFYf   Acc_iAdB2NPW  100000     by_price  000001       day   \n",
       "\n",
       "                      date             datetime market_type        order_id  \\\n",
       "order_id                                                                      \n",
       "Order_aEhq5KHe  2017-12-14  2017-12-14 09:31:00        0x01  Order_aEhq5KHe   \n",
       "Order_ZMn5WFYf  2017-12-14  2017-12-14 09:31:00        0x01  Order_ZMn5WFYf   \n",
       "\n",
       "               order_model  price         sending_time  status strategy  \\\n",
       "order_id                                                                  \n",
       "Order_aEhq5KHe       close   13.0  2017-12-14 09:31:00     200            \n",
       "Order_ZMn5WFYf       close   13.0  2017-12-14 09:31:00     200            \n",
       "\n",
       "                towards trade_id transact_time  type user  \n",
       "order_id                                                   \n",
       "Order_aEhq5KHe        1     None          None  0x01       \n",
       "Order_ZMn5WFYf        1     None          None  0x01       "
      ]
     },
     "execution_count": 32,
     "metadata": {},
     "output_type": "execute_result"
    }
   ],
   "source": [
    "market.broker[QA.BROKER_TYPE.BACKETEST].order_handler.order_queue()"
   ]
  },
  {
   "cell_type": "code",
   "execution_count": 33,
   "metadata": {},
   "outputs": [
    {
     "data": {
      "text/plain": [
       "[1000000, 901051.8]"
      ]
     },
     "execution_count": 33,
     "metadata": {},
     "output_type": "execute_result"
    }
   ],
   "source": [
    "\"\"\"\n",
    "cash 现金减少\n",
    "\"\"\"\n",
    "market.session[a_1].cash"
   ]
  },
  {
   "cell_type": "code",
   "execution_count": 34,
   "metadata": {},
   "outputs": [
    {
     "data": {
      "text/plain": [
       "[1000000, 999851.8]"
      ]
     },
     "execution_count": 34,
     "metadata": {},
     "output_type": "execute_result"
    }
   ],
   "source": [
    "\"\"\"\n",
    "资产减少\n",
    "\"\"\"\n",
    "market.session[a_1].assets"
   ]
  },
  {
   "cell_type": "code",
   "execution_count": 35,
   "metadata": {},
   "outputs": [
    {
     "data": {
      "text/plain": [
       "[['datetime', 'code', 'price', 'amount', 'order_id', 'trade_id']]"
      ]
     },
     "execution_count": 35,
     "metadata": {},
     "output_type": "execute_result"
    }
   ],
   "source": [
    "\"\"\"\n",
    "因为没有触发每日结算时间 在T+1的市场 即使买入了也没有可卖的\n",
    "\"\"\"\n",
    "market.session[a_1].sell_available"
   ]
  },
  {
   "cell_type": "code",
   "execution_count": 36,
   "metadata": {},
   "outputs": [
    {
     "data": {
      "text/plain": [
       "[['2017-12-14 09:31:00',\n",
       "  '000001',\n",
       "  13.0,\n",
       "  7600.0,\n",
       "  'Order_aEhq5KHe',\n",
       "  'Trade_d5DgyF0z']]"
      ]
     },
     "execution_count": 36,
     "metadata": {},
     "output_type": "execute_result"
    }
   ],
   "source": [
    "\"\"\"\n",
    "持仓表增加\n",
    "\"\"\"\n",
    "market.session[a_1].hold"
   ]
  },
  {
   "cell_type": "code",
   "execution_count": 37,
   "metadata": {},
   "outputs": [
    {
     "data": {
      "text/html": [
       "<div>\n",
       "<style scoped>\n",
       "    .dataframe tbody tr th:only-of-type {\n",
       "        vertical-align: middle;\n",
       "    }\n",
       "\n",
       "    .dataframe tbody tr th {\n",
       "        vertical-align: top;\n",
       "    }\n",
       "\n",
       "    .dataframe thead th {\n",
       "        text-align: right;\n",
       "    }\n",
       "</style>\n",
       "<table border=\"1\" class=\"dataframe\">\n",
       "  <thead>\n",
       "    <tr style=\"text-align: right;\">\n",
       "      <th></th>\n",
       "      <th>datetime</th>\n",
       "      <th>code</th>\n",
       "      <th>price</th>\n",
       "      <th>amount</th>\n",
       "      <th>order_id</th>\n",
       "      <th>trade_id</th>\n",
       "    </tr>\n",
       "  </thead>\n",
       "  <tbody>\n",
       "    <tr>\n",
       "      <th>0</th>\n",
       "      <td>2017-12-14 09:31:00</td>\n",
       "      <td>000001</td>\n",
       "      <td>13.0</td>\n",
       "      <td>7600.0</td>\n",
       "      <td>Order_aEhq5KHe</td>\n",
       "      <td>Trade_d5DgyF0z</td>\n",
       "    </tr>\n",
       "  </tbody>\n",
       "</table>\n",
       "</div>"
      ],
      "text/plain": [
       "              datetime    code  price  amount        order_id        trade_id\n",
       "0  2017-12-14 09:31:00  000001   13.0  7600.0  Order_aEhq5KHe  Trade_d5DgyF0z"
      ]
     },
     "execution_count": 37,
     "metadata": {},
     "output_type": "execute_result"
    }
   ],
   "source": [
    "# import pandas as pd\n",
    "\"\"\"用pandas打印的漂亮一点\"\"\"\n",
    "import pandas as pd\n",
    "pd.DataFrame(data=market.session[a_1].hold,columns=market.session[a_1]._hold_headers)"
   ]
  },
  {
   "cell_type": "code",
   "execution_count": 38,
   "metadata": {},
   "outputs": [
    {
     "data": {
      "text/plain": [
       "{'body': {'account': {'assets': [1000000, 999851.8],\n",
       "   'cash': [1000000, 901051.8],\n",
       "   'detail': [['2017-12-14 09:31:00',\n",
       "     '000001',\n",
       "     13.0,\n",
       "     7600.0,\n",
       "     'Order_aEhq5KHe',\n",
       "     'Trade_d5DgyF0z',\n",
       "     [],\n",
       "     [],\n",
       "     [],\n",
       "     [],\n",
       "     7600.0,\n",
       "     148.2]],\n",
       "   'history': [['2017-12-14 09:31:00',\n",
       "     '000001',\n",
       "     13.0,\n",
       "     1,\n",
       "     7600.0,\n",
       "     'Order_aEhq5KHe',\n",
       "     'Trade_d5DgyF0z',\n",
       "     148.2]],\n",
       "   'hold': [['2017-12-14 09:31:00',\n",
       "     '000001',\n",
       "     13.0,\n",
       "     7600.0,\n",
       "     'Order_aEhq5KHe',\n",
       "     'Trade_d5DgyF0z']]},\n",
       "  'date_stamp': 1514681248.835738,\n",
       "  'time': '2017-12-31 08:47:28.835723'},\n",
       " 'header': {'cookie': 'Acc_2nSHsdLE',\n",
       "  'session': {'code': '000001', 'strategy': '', 'user': ''},\n",
       "  'source': 'account'}}"
      ]
     },
     "execution_count": 38,
     "metadata": {},
     "output_type": "execute_result"
    }
   ],
   "source": [
    "\"\"\"\n",
    "账户信息\n",
    "\n",
    "可以看到 减少的资产 主要是因为收了手续费\n",
    "\"\"\"\n",
    "market.session[a_1].message"
   ]
  },
  {
   "cell_type": "code",
   "execution_count": 39,
   "metadata": {},
   "outputs": [
    {
     "name": "stderr",
     "output_type": "stream",
     "text": [
      "QUANTAXIS>> From Engine  <QA_ENGINE with ['backtest', 'simulation'] kernals>: There are still 3 tasks to do\n",
      "QUANTAXIS>> From Engine  <QA_ENGINE with ['backtest', 'simulation'] kernals>: There are still 2 tasks to do\n",
      "QUANTAXIS>> From Engine  <QA_ENGINE with ['backtest', 'simulation'] kernals>: There are still 1 tasks to do\n",
      "QUANTAXIS>> From Engine < QA_Thread backtest >: There are still 3 tasks to do\n",
      "QUANTAXIS>> From Engine < QA_Thread backtest >: There are still 2 tasks to do\n",
      "QUANTAXIS>> From Engine < QA_Thread backtest >: There are still 1 tasks to do\n"
     ]
    }
   ],
   "source": [
    "\"\"\"结算事件\"\"\"\n",
    "market._settle(QA.BROKER_TYPE.BACKETEST)"
   ]
  },
  {
   "cell_type": "code",
   "execution_count": 40,
   "metadata": {},
   "outputs": [
    {
     "data": {
      "text/plain": [
       "code\n",
       "000001    7600.0\n",
       "Name: amount, dtype: float64"
      ]
     },
     "execution_count": 40,
     "metadata": {},
     "output_type": "execute_result"
    }
   ],
   "source": [
    "\"\"\"\n",
    "结算完以后 可卖数量就会变成和持仓数一样\n",
    "\"\"\"\n",
    "market.session[a_1].sell_available"
   ]
  },
  {
   "cell_type": "code",
   "execution_count": 42,
   "metadata": {},
   "outputs": [
    {
     "data": {
      "text/plain": [
       "'\\n结算完以后 待成交队列也被清空\\n'"
      ]
     },
     "execution_count": 42,
     "metadata": {},
     "output_type": "execute_result"
    }
   ],
   "source": [
    "\"\"\"\n",
    "结算完以后 待成交队列也被清空\n",
    "\"\"\"\n",
    "\n"
   ]
  },
  {
   "cell_type": "code",
   "execution_count": 43,
   "metadata": {},
   "outputs": [
    {
     "data": {
      "text/html": [
       "<div>\n",
       "<style scoped>\n",
       "    .dataframe tbody tr th:only-of-type {\n",
       "        vertical-align: middle;\n",
       "    }\n",
       "\n",
       "    .dataframe tbody tr th {\n",
       "        vertical-align: top;\n",
       "    }\n",
       "\n",
       "    .dataframe thead th {\n",
       "        text-align: right;\n",
       "    }\n",
       "</style>\n",
       "<table border=\"1\" class=\"dataframe\">\n",
       "  <thead>\n",
       "    <tr style=\"text-align: right;\">\n",
       "      <th></th>\n",
       "    </tr>\n",
       "  </thead>\n",
       "  <tbody>\n",
       "  </tbody>\n",
       "</table>\n",
       "</div>"
      ],
      "text/plain": [
       "Empty DataFrame\n",
       "Columns: []\n",
       "Index: []"
      ]
     },
     "execution_count": 43,
     "metadata": {},
     "output_type": "execute_result"
    }
   ],
   "source": [
    "market.broker[QA.BROKER_TYPE.BACKETEST].order_handler.order_queue()"
   ]
  },
  {
   "cell_type": "code",
   "execution_count": null,
   "metadata": {},
   "outputs": [],
   "source": []
  },
  {
   "cell_type": "code",
   "execution_count": null,
   "metadata": {},
   "outputs": [],
   "source": []
  }
 ],
 "metadata": {
  "kernelspec": {
   "display_name": "Python 3",
   "language": "python",
   "name": "python3"
  },
  "language_info": {
   "codemirror_mode": {
    "name": "ipython",
    "version": 3
   },
   "file_extension": ".py",
   "mimetype": "text/x-python",
   "name": "python",
   "nbconvert_exporter": "python",
   "pygments_lexer": "ipython3",
   "version": "3.6.3"
  }
 },
 "nbformat": 4,
 "nbformat_minor": 2
}
